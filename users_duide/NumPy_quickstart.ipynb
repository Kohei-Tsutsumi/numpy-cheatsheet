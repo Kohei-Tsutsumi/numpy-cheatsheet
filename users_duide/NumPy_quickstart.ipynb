{
 "cells": [
  {
   "cell_type": "code",
   "execution_count": 48,
   "metadata": {},
   "outputs": [],
   "source": [
    "from IPython.display import Image\n",
    "import numpy as np"
   ]
  },
  {
   "source": [
    "# [The Basics](https://numpy.org/doc/stable/user/quickstart.html#the-basics)"
   ],
   "cell_type": "markdown",
   "metadata": {}
  },
  {
   "source": [
    "NumPyではN次元のarrayを扱います。各次元のことをaxisと呼びます。\n",
    "\n",
    "以下の例ではfirst axisの長さは2で、second axisの長さは3です。次元は一番外のカッコからfirst、second、、、と数えると覚えておきましょう。\n",
    "```python\n",
    "[[ 1., 0., 0.],\n",
    " [ 0., 1., 2.]]\n",
    "```"
   ],
   "cell_type": "markdown",
   "metadata": {}
  },
  {
   "source": [
    "# [An example](https://numpy.org/doc/stable/user/quickstart.html#an-example)"
   ],
   "cell_type": "markdown",
   "metadata": {}
  },
  {
   "cell_type": "code",
   "execution_count": 37,
   "metadata": {},
   "outputs": [
    {
     "output_type": "execute_result",
     "data": {
      "text/plain": [
       "array([[ 0,  1,  2,  3,  4],\n",
       "       [ 5,  6,  7,  8,  9],\n",
       "       [10, 11, 12, 13, 14]])"
      ]
     },
     "metadata": {},
     "execution_count": 37
    }
   ],
   "source": [
    "a = np.arange(15).reshape(3, 5)\n",
    "a"
   ]
  },
  {
   "cell_type": "code",
   "execution_count": 38,
   "metadata": {},
   "outputs": [
    {
     "output_type": "execute_result",
     "data": {
      "text/plain": [
       "(3, 5)"
      ]
     },
     "metadata": {},
     "execution_count": 38
    }
   ],
   "source": [
    "a.shape"
   ]
  },
  {
   "cell_type": "code",
   "execution_count": 44,
   "metadata": {},
   "outputs": [
    {
     "output_type": "execute_result",
     "data": {
      "text/plain": [
       "2"
      ]
     },
     "metadata": {},
     "execution_count": 44
    }
   ],
   "source": [
    "a.ndim # 次元数。つまりaxisの数。"
   ]
  },
  {
   "cell_type": "code",
   "execution_count": 49,
   "metadata": {},
   "outputs": [
    {
     "output_type": "execute_result",
     "data": {
      "text/plain": [
       "dtype('int64')"
      ]
     },
     "metadata": {},
     "execution_count": 49
    }
   ],
   "source": [
    "a.dtype"
   ]
  },
  {
   "cell_type": "code",
   "execution_count": 45,
   "metadata": {},
   "outputs": [
    {
     "output_type": "execute_result",
     "data": {
      "text/plain": [
       "'int64'"
      ]
     },
     "metadata": {},
     "execution_count": 45
    }
   ],
   "source": [
    "a.dtype.name"
   ]
  },
  {
   "cell_type": "code",
   "execution_count": 46,
   "metadata": {},
   "outputs": [
    {
     "output_type": "execute_result",
     "data": {
      "text/plain": [
       "8"
      ]
     },
     "metadata": {},
     "execution_count": 46
    }
   ],
   "source": [
    "a.itemsize # 各要素のbyte数。"
   ]
  },
  {
   "cell_type": "code",
   "execution_count": 42,
   "metadata": {},
   "outputs": [
    {
     "output_type": "execute_result",
     "data": {
      "text/plain": [
       "15"
      ]
     },
     "metadata": {},
     "execution_count": 42
    }
   ],
   "source": [
    "a.size"
   ]
  },
  {
   "cell_type": "code",
   "execution_count": 43,
   "metadata": {},
   "outputs": [
    {
     "output_type": "execute_result",
     "data": {
      "text/plain": [
       "numpy.ndarray"
      ]
     },
     "metadata": {},
     "execution_count": 43
    }
   ],
   "source": [
    "type(a)"
   ]
  },
  {
   "source": [
    "# [Array Creation](https://numpy.org/doc/stable/user/quickstart.html#array-creation)"
   ],
   "cell_type": "markdown",
   "metadata": {}
  },
  {
   "source": [
    "`array`関数を使ってPythonのリストからarrayを作成します。"
   ],
   "cell_type": "markdown",
   "metadata": {}
  },
  {
   "cell_type": "code",
   "execution_count": 51,
   "metadata": {},
   "outputs": [],
   "source": [
    "a = np.array([2, 3, 4])\n",
    "b = np.array([1.2, 3.5, 5.1])"
   ]
  },
  {
   "cell_type": "code",
   "execution_count": 52,
   "metadata": {},
   "outputs": [
    {
     "output_type": "execute_result",
     "data": {
      "text/plain": [
       "dtype('int64')"
      ]
     },
     "metadata": {},
     "execution_count": 52
    }
   ],
   "source": [
    "a.dtype"
   ]
  },
  {
   "cell_type": "code",
   "execution_count": 53,
   "metadata": {},
   "outputs": [
    {
     "output_type": "execute_result",
     "data": {
      "text/plain": [
       "dtype('float64')"
      ]
     },
     "metadata": {},
     "execution_count": 53
    }
   ],
   "source": [
    "b.dtype"
   ]
  },
  {
   "cell_type": "code",
   "execution_count": 56,
   "metadata": {},
   "outputs": [
    {
     "output_type": "execute_result",
     "data": {
      "text/plain": [
       "array([[1.5, 2. , 3. ],\n",
       "       [4. , 5. , 6. ]])"
      ]
     },
     "metadata": {},
     "execution_count": 56
    }
   ],
   "source": [
    "b = np.array([(1.5,2,3), (4,5,6)]) # 2次元以上のarrayもこのように作れる。\n",
    "b"
   ]
  },
  {
   "cell_type": "code",
   "execution_count": 58,
   "metadata": {},
   "outputs": [
    {
     "output_type": "execute_result",
     "data": {
      "text/plain": [
       "array([[1.+0.j, 2.+0.j],\n",
       "       [3.+0.j, 4.+0.j]])"
      ]
     },
     "metadata": {},
     "execution_count": 58
    }
   ],
   "source": [
    "c = np.array( [ [1,2], [3,4] ], dtype=complex )\n",
    "c"
   ]
  },
  {
   "source": [
    "サイズを指定してarrayを作成する関数もあります。"
   ],
   "cell_type": "markdown",
   "metadata": {}
  },
  {
   "cell_type": "code",
   "execution_count": 59,
   "metadata": {},
   "outputs": [
    {
     "output_type": "execute_result",
     "data": {
      "text/plain": [
       "array([[0., 0., 0., 0.],\n",
       "       [0., 0., 0., 0.],\n",
       "       [0., 0., 0., 0.]])"
      ]
     },
     "metadata": {},
     "execution_count": 59
    }
   ],
   "source": [
    "np.zeros((3, 4))"
   ]
  },
  {
   "cell_type": "code",
   "execution_count": 60,
   "metadata": {},
   "outputs": [
    {
     "output_type": "execute_result",
     "data": {
      "text/plain": [
       "array([[[1, 1, 1, 1],\n",
       "        [1, 1, 1, 1],\n",
       "        [1, 1, 1, 1]],\n",
       "\n",
       "       [[1, 1, 1, 1],\n",
       "        [1, 1, 1, 1],\n",
       "        [1, 1, 1, 1]]], dtype=int16)"
      ]
     },
     "metadata": {},
     "execution_count": 60
    }
   ],
   "source": [
    "np.ones( (2,3,4), dtype=np.int16 )                # dtype can also be specified"
   ]
  },
  {
   "cell_type": "code",
   "execution_count": 168,
   "metadata": {},
   "outputs": [
    {
     "output_type": "execute_result",
     "data": {
      "text/plain": [
       "array([[5.92878775e-323, 2.00000000e+000, 5.10959527e-158],\n",
       "       [4.00000000e+000, 1.19787521e-002, 6.00000000e+000]])"
      ]
     },
     "metadata": {},
     "execution_count": 168
    }
   ],
   "source": [
    "np.empty( (2,3), )                                 # uninitialized\n",
    "# メモリの状況に依存してランダムに初期化されるらしい。"
   ]
  },
  {
   "source": [
    "`range`関数と同じような挙動の`arange`関数もあります。"
   ],
   "cell_type": "markdown",
   "metadata": {}
  },
  {
   "cell_type": "code",
   "execution_count": 169,
   "metadata": {},
   "outputs": [
    {
     "output_type": "execute_result",
     "data": {
      "text/plain": [
       "array([10, 15, 20, 25])"
      ]
     },
     "metadata": {},
     "execution_count": 169
    }
   ],
   "source": [
    "np.arange( 10, 30, 5 )"
   ]
  },
  {
   "cell_type": "code",
   "execution_count": 170,
   "metadata": {},
   "outputs": [
    {
     "output_type": "execute_result",
     "data": {
      "text/plain": [
       "array([0. , 0.3, 0.6, 0.9, 1.2, 1.5, 1.8])"
      ]
     },
     "metadata": {},
     "execution_count": 170
    }
   ],
   "source": [
    "np.arange( 0, 2, 0.3 )                 # it accepts float arguments"
   ]
  },
  {
   "source": [
    "`arange`関数の引数に小数点を指定した場合に、有限の小数点の精度の限界があるので要素数が予想と異なる場合があります。そのため、`linespace`関数を使う方が望ましいです。"
   ],
   "cell_type": "markdown",
   "metadata": {}
  },
  {
   "cell_type": "code",
   "execution_count": 206,
   "metadata": {},
   "outputs": [
    {
     "output_type": "stream",
     "name": "stdout",
     "text": [
      "[0.         0.33333333 0.66666667 1.         1.33333333 1.66666667\n 2.         2.33333333]\n[0.         0.33333333 0.66666667 1.         1.33333333 1.66666667\n 2.         2.33333333]\n"
     ]
    }
   ],
   "source": [
    "# 例えば次の二つは同じ結果になる。\n",
    "print(np.arange(0, 7/3, 1/3))\n",
    "print(np.arange(0, 8/3, 1/3))"
   ]
  },
  {
   "cell_type": "code",
   "execution_count": 171,
   "metadata": {},
   "outputs": [
    {
     "output_type": "execute_result",
     "data": {
      "text/plain": [
       "array([0.  , 0.25, 0.5 , 0.75, 1.  , 1.25, 1.5 , 1.75, 2.  ])"
      ]
     },
     "metadata": {},
     "execution_count": 171
    }
   ],
   "source": [
    "from numpy import pi\n",
    "np.linspace( 0, 2, 9 )                 # 9 numbers from 0 to 2"
   ]
  },
  {
   "cell_type": "code",
   "execution_count": 210,
   "metadata": {},
   "outputs": [
    {
     "output_type": "execute_result",
     "data": {
      "text/plain": [
       "array([ 0.00000000e+00,  6.34239197e-02,  1.26592454e-01,  1.89251244e-01,\n",
       "        2.51147987e-01,  3.12033446e-01,  3.71662456e-01,  4.29794912e-01,\n",
       "        4.86196736e-01,  5.40640817e-01,  5.92907929e-01,  6.42787610e-01,\n",
       "        6.90079011e-01,  7.34591709e-01,  7.76146464e-01,  8.14575952e-01,\n",
       "        8.49725430e-01,  8.81453363e-01,  9.09631995e-01,  9.34147860e-01,\n",
       "        9.54902241e-01,  9.71811568e-01,  9.84807753e-01,  9.93838464e-01,\n",
       "        9.98867339e-01,  9.99874128e-01,  9.96854776e-01,  9.89821442e-01,\n",
       "        9.78802446e-01,  9.63842159e-01,  9.45000819e-01,  9.22354294e-01,\n",
       "        8.95993774e-01,  8.66025404e-01,  8.32569855e-01,  7.95761841e-01,\n",
       "        7.55749574e-01,  7.12694171e-01,  6.66769001e-01,  6.18158986e-01,\n",
       "        5.67059864e-01,  5.13677392e-01,  4.58226522e-01,  4.00930535e-01,\n",
       "        3.42020143e-01,  2.81732557e-01,  2.20310533e-01,  1.58001396e-01,\n",
       "        9.50560433e-02,  3.17279335e-02, -3.17279335e-02, -9.50560433e-02,\n",
       "       -1.58001396e-01, -2.20310533e-01, -2.81732557e-01, -3.42020143e-01,\n",
       "       -4.00930535e-01, -4.58226522e-01, -5.13677392e-01, -5.67059864e-01,\n",
       "       -6.18158986e-01, -6.66769001e-01, -7.12694171e-01, -7.55749574e-01,\n",
       "       -7.95761841e-01, -8.32569855e-01, -8.66025404e-01, -8.95993774e-01,\n",
       "       -9.22354294e-01, -9.45000819e-01, -9.63842159e-01, -9.78802446e-01,\n",
       "       -9.89821442e-01, -9.96854776e-01, -9.99874128e-01, -9.98867339e-01,\n",
       "       -9.93838464e-01, -9.84807753e-01, -9.71811568e-01, -9.54902241e-01,\n",
       "       -9.34147860e-01, -9.09631995e-01, -8.81453363e-01, -8.49725430e-01,\n",
       "       -8.14575952e-01, -7.76146464e-01, -7.34591709e-01, -6.90079011e-01,\n",
       "       -6.42787610e-01, -5.92907929e-01, -5.40640817e-01, -4.86196736e-01,\n",
       "       -4.29794912e-01, -3.71662456e-01, -3.12033446e-01, -2.51147987e-01,\n",
       "       -1.89251244e-01, -1.26592454e-01, -6.34239197e-02, -2.44929360e-16])"
      ]
     },
     "metadata": {},
     "execution_count": 210
    }
   ],
   "source": [
    "x = np.linspace( 0, 2*pi, 100 )        # useful to evaluate function at lots of points\n",
    "f = np.sin(x)\n",
    "f"
   ]
  },
  {
   "source": [
    "以下のように実行すれば上の例で予想していなかった挙動は回避できます。"
   ],
   "cell_type": "markdown",
   "metadata": {}
  },
  {
   "cell_type": "code",
   "execution_count": 209,
   "metadata": {},
   "outputs": [
    {
     "output_type": "stream",
     "name": "stdout",
     "text": [
      "[0.         0.33333333 0.66666667 1.         1.33333333 1.66666667\n 2.         2.33333333]\n[0.         0.33333333 0.66666667 1.         1.33333333 1.66666667\n 2.         2.33333333 2.66666667]\n"
     ]
    }
   ],
   "source": [
    "print(np.linspace(0, 7/3, 8))\n",
    "print(np.linspace(0, 8/3, 9))"
   ]
  },
  {
   "source": [
    "# [Printing Arrays](https://numpy.org/doc/stable/user/quickstart.html#printing-arrays)"
   ],
   "cell_type": "markdown",
   "metadata": {}
  },
  {
   "cell_type": "code",
   "execution_count": 213,
   "metadata": {},
   "outputs": [
    {
     "output_type": "stream",
     "name": "stdout",
     "text": [
      "[0 1 2 3 4 5]\n"
     ]
    }
   ],
   "source": [
    "a = np.arange(6)                         # 1d array\n",
    "print(a)"
   ]
  },
  {
   "cell_type": "code",
   "execution_count": 214,
   "metadata": {},
   "outputs": [
    {
     "output_type": "stream",
     "name": "stdout",
     "text": [
      "[[ 0  1  2]\n [ 3  4  5]\n [ 6  7  8]\n [ 9 10 11]]\n"
     ]
    }
   ],
   "source": [
    "b = np.arange(12).reshape(4,3)           # 2d array\n",
    "print(b)"
   ]
  },
  {
   "cell_type": "code",
   "execution_count": 215,
   "metadata": {},
   "outputs": [
    {
     "output_type": "stream",
     "name": "stdout",
     "text": [
      "[[[ 0  1  2  3]\n  [ 4  5  6  7]\n  [ 8  9 10 11]]\n\n [[12 13 14 15]\n  [16 17 18 19]\n  [20 21 22 23]]]\n"
     ]
    }
   ],
   "source": [
    "c = np.arange(24).reshape(2,3,4)         # 3d array\n",
    "print(c)"
   ]
  },
  {
   "cell_type": "code",
   "execution_count": 216,
   "metadata": {},
   "outputs": [
    {
     "output_type": "stream",
     "name": "stdout",
     "text": [
      "[   0    1    2 ... 9997 9998 9999]\n"
     ]
    }
   ],
   "source": [
    "print(np.arange(10000))"
   ]
  },
  {
   "cell_type": "code",
   "execution_count": 217,
   "metadata": {},
   "outputs": [
    {
     "output_type": "stream",
     "name": "stdout",
     "text": [
      "[[   0    1    2 ...   97   98   99]\n [ 100  101  102 ...  197  198  199]\n [ 200  201  202 ...  297  298  299]\n ...\n [9700 9701 9702 ... 9797 9798 9799]\n [9800 9801 9802 ... 9897 9898 9899]\n [9900 9901 9902 ... 9997 9998 9999]]\n"
     ]
    }
   ],
   "source": [
    "print(np.arange(10000).reshape(100,100))"
   ]
  },
  {
   "cell_type": "code",
   "execution_count": 219,
   "metadata": {},
   "outputs": [
    {
     "output_type": "stream",
     "name": "stdout",
     "text": [
      "[[[[[[[[[[   0    1]\n         [   2    3]]\n\n        [[   4    5]\n         [   6    7]]]\n\n\n       [[[   8    9]\n         [  10   11]]\n\n        [[  12   13]\n         [  14   15]]]]\n\n\n\n      [[[[  16   17]\n         [  18   19]]\n\n        [[  20   21]\n         [  22   23]]]\n\n\n       [[[  24   25]\n         [  26   27]]\n\n        [[  28   29]\n         [  30   31]]]]]\n\n\n\n\n     [[[[[  32   33]\n         [  34   35]]\n\n        [[  36   37]\n         [  38   39]]]\n\n\n       [[[  40   41]\n         [  42   43]]\n\n        [[  44   45]\n         [  46   47]]]]\n\n\n\n      [[[[  48   49]\n         [  50   51]]\n\n        [[  52   53]\n         [  54   55]]]\n\n\n       [[[  56   57]\n         [  58   59]]\n\n        [[  60   61]\n         [  62   63]]]]]]\n\n\n\n\n\n    [[[[[[  64   65]\n         [  66   67]]\n\n        [[  68   69]\n         [  70   71]]]\n\n\n       [[[  72   73]\n         [  74   75]]\n\n        [[  76   77]\n         [  78   79]]]]\n\n\n\n      [[[[  80   81]\n         [  82   83]]\n\n        [[  84   85]\n         [  86   87]]]\n\n\n       [[[  88   89]\n         [  90   91]]\n\n        [[  92   93]\n         [  94   95]]]]]\n\n\n\n\n     [[[[[  96   97]\n         [  98   99]]\n\n        [[ 100  101]\n         [ 102  103]]]\n\n\n       [[[ 104  105]\n         [ 106  107]]\n\n        [[ 108  109]\n         [ 110  111]]]]\n\n\n\n      [[[[ 112  113]\n         [ 114  115]]\n\n        [[ 116  117]\n         [ 118  119]]]\n\n\n       [[[ 120  121]\n         [ 122  123]]\n\n        [[ 124  125]\n         [ 126  127]]]]]]]\n\n\n\n\n\n\n   [[[[[[[ 128  129]\n         [ 130  131]]\n\n        [[ 132  133]\n         [ 134  135]]]\n\n\n       [[[ 136  137]\n         [ 138  139]]\n\n        [[ 140  141]\n         [ 142  143]]]]\n\n\n\n      [[[[ 144  145]\n         [ 146  147]]\n\n        [[ 148  149]\n         [ 150  151]]]\n\n\n       [[[ 152  153]\n         [ 154  155]]\n\n        [[ 156  157]\n         [ 158  159]]]]]\n\n\n\n\n     [[[[[ 160  161]\n         [ 162  163]]\n\n        [[ 164  165]\n         [ 166  167]]]\n\n\n       [[[ 168  169]\n         [ 170  171]]\n\n        [[ 172  173]\n         [ 174  175]]]]\n\n\n\n      [[[[ 176  177]\n         [ 178  179]]\n\n        [[ 180  181]\n         [ 182  183]]]\n\n\n       [[[ 184  185]\n         [ 186  187]]\n\n        [[ 188  189]\n         [ 190  191]]]]]]\n\n\n\n\n\n    [[[[[[ 192  193]\n         [ 194  195]]\n\n        [[ 196  197]\n         [ 198  199]]]\n\n\n       [[[ 200  201]\n         [ 202  203]]\n\n        [[ 204  205]\n         [ 206  207]]]]\n\n\n\n      [[[[ 208  209]\n         [ 210  211]]\n\n        [[ 212  213]\n         [ 214  215]]]\n\n\n       [[[ 216  217]\n         [ 218  219]]\n\n        [[ 220  221]\n         [ 222  223]]]]]\n\n\n\n\n     [[[[[ 224  225]\n         [ 226  227]]\n\n        [[ 228  229]\n         [ 230  231]]]\n\n\n       [[[ 232  233]\n         [ 234  235]]\n\n        [[ 236  237]\n         [ 238  239]]]]\n\n\n\n      [[[[ 240  241]\n         [ 242  243]]\n\n        [[ 244  245]\n         [ 246  247]]]\n\n\n       [[[ 248  249]\n         [ 250  251]]\n\n        [[ 252  253]\n         [ 254  255]]]]]]]]\n\n\n\n\n\n\n\n  [[[[[[[[ 256  257]\n         [ 258  259]]\n\n        [[ 260  261]\n         [ 262  263]]]\n\n\n       [[[ 264  265]\n         [ 266  267]]\n\n        [[ 268  269]\n         [ 270  271]]]]\n\n\n\n      [[[[ 272  273]\n         [ 274  275]]\n\n        [[ 276  277]\n         [ 278  279]]]\n\n\n       [[[ 280  281]\n         [ 282  283]]\n\n        [[ 284  285]\n         [ 286  287]]]]]\n\n\n\n\n     [[[[[ 288  289]\n         [ 290  291]]\n\n        [[ 292  293]\n         [ 294  295]]]\n\n\n       [[[ 296  297]\n         [ 298  299]]\n\n        [[ 300  301]\n         [ 302  303]]]]\n\n\n\n      [[[[ 304  305]\n         [ 306  307]]\n\n        [[ 308  309]\n         [ 310  311]]]\n\n\n       [[[ 312  313]\n         [ 314  315]]\n\n        [[ 316  317]\n         [ 318  319]]]]]]\n\n\n\n\n\n    [[[[[[ 320  321]\n         [ 322  323]]\n\n        [[ 324  325]\n         [ 326  327]]]\n\n\n       [[[ 328  329]\n         [ 330  331]]\n\n        [[ 332  333]\n         [ 334  335]]]]\n\n\n\n      [[[[ 336  337]\n         [ 338  339]]\n\n        [[ 340  341]\n         [ 342  343]]]\n\n\n       [[[ 344  345]\n         [ 346  347]]\n\n        [[ 348  349]\n         [ 350  351]]]]]\n\n\n\n\n     [[[[[ 352  353]\n         [ 354  355]]\n\n        [[ 356  357]\n         [ 358  359]]]\n\n\n       [[[ 360  361]\n         [ 362  363]]\n\n        [[ 364  365]\n         [ 366  367]]]]\n\n\n\n      [[[[ 368  369]\n         [ 370  371]]\n\n        [[ 372  373]\n         [ 374  375]]]\n\n\n       [[[ 376  377]\n         [ 378  379]]\n\n        [[ 380  381]\n         [ 382  383]]]]]]]\n\n\n\n\n\n\n   [[[[[[[ 384  385]\n         [ 386  387]]\n\n        [[ 388  389]\n         [ 390  391]]]\n\n\n       [[[ 392  393]\n         [ 394  395]]\n\n        [[ 396  397]\n         [ 398  399]]]]\n\n\n\n      [[[[ 400  401]\n         [ 402  403]]\n\n        [[ 404  405]\n         [ 406  407]]]\n\n\n       [[[ 408  409]\n         [ 410  411]]\n\n        [[ 412  413]\n         [ 414  415]]]]]\n\n\n\n\n     [[[[[ 416  417]\n         [ 418  419]]\n\n        [[ 420  421]\n         [ 422  423]]]\n\n\n       [[[ 424  425]\n         [ 426  427]]\n\n        [[ 428  429]\n         [ 430  431]]]]\n\n\n\n      [[[[ 432  433]\n         [ 434  435]]\n\n        [[ 436  437]\n         [ 438  439]]]\n\n\n       [[[ 440  441]\n         [ 442  443]]\n\n        [[ 444  445]\n         [ 446  447]]]]]]\n\n\n\n\n\n    [[[[[[ 448  449]\n         [ 450  451]]\n\n        [[ 452  453]\n         [ 454  455]]]\n\n\n       [[[ 456  457]\n         [ 458  459]]\n\n        [[ 460  461]\n         [ 462  463]]]]\n\n\n\n      [[[[ 464  465]\n         [ 466  467]]\n\n        [[ 468  469]\n         [ 470  471]]]\n\n\n       [[[ 472  473]\n         [ 474  475]]\n\n        [[ 476  477]\n         [ 478  479]]]]]\n\n\n\n\n     [[[[[ 480  481]\n         [ 482  483]]\n\n        [[ 484  485]\n         [ 486  487]]]\n\n\n       [[[ 488  489]\n         [ 490  491]]\n\n        [[ 492  493]\n         [ 494  495]]]]\n\n\n\n      [[[[ 496  497]\n         [ 498  499]]\n\n        [[ 500  501]\n         [ 502  503]]]\n\n\n       [[[ 504  505]\n         [ 506  507]]\n\n        [[ 508  509]\n         [ 510  511]]]]]]]]]\n\n\n\n\n\n\n\n\n [[[[[[[[[ 512  513]\n         [ 514  515]]\n\n        [[ 516  517]\n         [ 518  519]]]\n\n\n       [[[ 520  521]\n         [ 522  523]]\n\n        [[ 524  525]\n         [ 526  527]]]]\n\n\n\n      [[[[ 528  529]\n         [ 530  531]]\n\n        [[ 532  533]\n         [ 534  535]]]\n\n\n       [[[ 536  537]\n         [ 538  539]]\n\n        [[ 540  541]\n         [ 542  543]]]]]\n\n\n\n\n     [[[[[ 544  545]\n         [ 546  547]]\n\n        [[ 548  549]\n         [ 550  551]]]\n\n\n       [[[ 552  553]\n         [ 554  555]]\n\n        [[ 556  557]\n         [ 558  559]]]]\n\n\n\n      [[[[ 560  561]\n         [ 562  563]]\n\n        [[ 564  565]\n         [ 566  567]]]\n\n\n       [[[ 568  569]\n         [ 570  571]]\n\n        [[ 572  573]\n         [ 574  575]]]]]]\n\n\n\n\n\n    [[[[[[ 576  577]\n         [ 578  579]]\n\n        [[ 580  581]\n         [ 582  583]]]\n\n\n       [[[ 584  585]\n         [ 586  587]]\n\n        [[ 588  589]\n         [ 590  591]]]]\n\n\n\n      [[[[ 592  593]\n         [ 594  595]]\n\n        [[ 596  597]\n         [ 598  599]]]\n\n\n       [[[ 600  601]\n         [ 602  603]]\n\n        [[ 604  605]\n         [ 606  607]]]]]\n\n\n\n\n     [[[[[ 608  609]\n         [ 610  611]]\n\n        [[ 612  613]\n         [ 614  615]]]\n\n\n       [[[ 616  617]\n         [ 618  619]]\n\n        [[ 620  621]\n         [ 622  623]]]]\n\n\n\n      [[[[ 624  625]\n         [ 626  627]]\n\n        [[ 628  629]\n         [ 630  631]]]\n\n\n       [[[ 632  633]\n         [ 634  635]]\n\n        [[ 636  637]\n         [ 638  639]]]]]]]\n\n\n\n\n\n\n   [[[[[[[ 640  641]\n         [ 642  643]]\n\n        [[ 644  645]\n         [ 646  647]]]\n\n\n       [[[ 648  649]\n         [ 650  651]]\n\n        [[ 652  653]\n         [ 654  655]]]]\n\n\n\n      [[[[ 656  657]\n         [ 658  659]]\n\n        [[ 660  661]\n         [ 662  663]]]\n\n\n       [[[ 664  665]\n         [ 666  667]]\n\n        [[ 668  669]\n         [ 670  671]]]]]\n\n\n\n\n     [[[[[ 672  673]\n         [ 674  675]]\n\n        [[ 676  677]\n         [ 678  679]]]\n\n\n       [[[ 680  681]\n         [ 682  683]]\n\n        [[ 684  685]\n         [ 686  687]]]]\n\n\n\n      [[[[ 688  689]\n         [ 690  691]]\n\n        [[ 692  693]\n         [ 694  695]]]\n\n\n       [[[ 696  697]\n         [ 698  699]]\n\n        [[ 700  701]\n         [ 702  703]]]]]]\n\n\n\n\n\n    [[[[[[ 704  705]\n         [ 706  707]]\n\n        [[ 708  709]\n         [ 710  711]]]\n\n\n       [[[ 712  713]\n         [ 714  715]]\n\n        [[ 716  717]\n         [ 718  719]]]]\n\n\n\n      [[[[ 720  721]\n         [ 722  723]]\n\n        [[ 724  725]\n         [ 726  727]]]\n\n\n       [[[ 728  729]\n         [ 730  731]]\n\n        [[ 732  733]\n         [ 734  735]]]]]\n\n\n\n\n     [[[[[ 736  737]\n         [ 738  739]]\n\n        [[ 740  741]\n         [ 742  743]]]\n\n\n       [[[ 744  745]\n         [ 746  747]]\n\n        [[ 748  749]\n         [ 750  751]]]]\n\n\n\n      [[[[ 752  753]\n         [ 754  755]]\n\n        [[ 756  757]\n         [ 758  759]]]\n\n\n       [[[ 760  761]\n         [ 762  763]]\n\n        [[ 764  765]\n         [ 766  767]]]]]]]]\n\n\n\n\n\n\n\n  [[[[[[[[ 768  769]\n         [ 770  771]]\n\n        [[ 772  773]\n         [ 774  775]]]\n\n\n       [[[ 776  777]\n         [ 778  779]]\n\n        [[ 780  781]\n         [ 782  783]]]]\n\n\n\n      [[[[ 784  785]\n         [ 786  787]]\n\n        [[ 788  789]\n         [ 790  791]]]\n\n\n       [[[ 792  793]\n         [ 794  795]]\n\n        [[ 796  797]\n         [ 798  799]]]]]\n\n\n\n\n     [[[[[ 800  801]\n         [ 802  803]]\n\n        [[ 804  805]\n         [ 806  807]]]\n\n\n       [[[ 808  809]\n         [ 810  811]]\n\n        [[ 812  813]\n         [ 814  815]]]]\n\n\n\n      [[[[ 816  817]\n         [ 818  819]]\n\n        [[ 820  821]\n         [ 822  823]]]\n\n\n       [[[ 824  825]\n         [ 826  827]]\n\n        [[ 828  829]\n         [ 830  831]]]]]]\n\n\n\n\n\n    [[[[[[ 832  833]\n         [ 834  835]]\n\n        [[ 836  837]\n         [ 838  839]]]\n\n\n       [[[ 840  841]\n         [ 842  843]]\n\n        [[ 844  845]\n         [ 846  847]]]]\n\n\n\n      [[[[ 848  849]\n         [ 850  851]]\n\n        [[ 852  853]\n         [ 854  855]]]\n\n\n       [[[ 856  857]\n         [ 858  859]]\n\n        [[ 860  861]\n         [ 862  863]]]]]\n\n\n\n\n     [[[[[ 864  865]\n         [ 866  867]]\n\n        [[ 868  869]\n         [ 870  871]]]\n\n\n       [[[ 872  873]\n         [ 874  875]]\n\n        [[ 876  877]\n         [ 878  879]]]]\n\n\n\n      [[[[ 880  881]\n         [ 882  883]]\n\n        [[ 884  885]\n         [ 886  887]]]\n\n\n       [[[ 888  889]\n         [ 890  891]]\n\n        [[ 892  893]\n         [ 894  895]]]]]]]\n\n\n\n\n\n\n   [[[[[[[ 896  897]\n         [ 898  899]]\n\n        [[ 900  901]\n         [ 902  903]]]\n\n\n       [[[ 904  905]\n         [ 906  907]]\n\n        [[ 908  909]\n         [ 910  911]]]]\n\n\n\n      [[[[ 912  913]\n         [ 914  915]]\n\n        [[ 916  917]\n         [ 918  919]]]\n\n\n       [[[ 920  921]\n         [ 922  923]]\n\n        [[ 924  925]\n         [ 926  927]]]]]\n\n\n\n\n     [[[[[ 928  929]\n         [ 930  931]]\n\n        [[ 932  933]\n         [ 934  935]]]\n\n\n       [[[ 936  937]\n         [ 938  939]]\n\n        [[ 940  941]\n         [ 942  943]]]]\n\n\n\n      [[[[ 944  945]\n         [ 946  947]]\n\n        [[ 948  949]\n         [ 950  951]]]\n\n\n       [[[ 952  953]\n         [ 954  955]]\n\n        [[ 956  957]\n         [ 958  959]]]]]]\n\n\n\n\n\n    [[[[[[ 960  961]\n         [ 962  963]]\n\n        [[ 964  965]\n         [ 966  967]]]\n\n\n       [[[ 968  969]\n         [ 970  971]]\n\n        [[ 972  973]\n         [ 974  975]]]]\n\n\n\n      [[[[ 976  977]\n         [ 978  979]]\n\n        [[ 980  981]\n         [ 982  983]]]\n\n\n       [[[ 984  985]\n         [ 986  987]]\n\n        [[ 988  989]\n         [ 990  991]]]]]\n\n\n\n\n     [[[[[ 992  993]\n         [ 994  995]]\n\n        [[ 996  997]\n         [ 998  999]]]\n\n\n       [[[1000 1001]\n         [1002 1003]]\n\n        [[1004 1005]\n         [1006 1007]]]]\n\n\n\n      [[[[1008 1009]\n         [1010 1011]]\n\n        [[1012 1013]\n         [1014 1015]]]\n\n\n       [[[1016 1017]\n         [1018 1019]]\n\n        [[1020 1021]\n         [1022 1023]]]]]]]]]]\n"
     ]
    }
   ],
   "source": [
    "print(np.arange(2**10).reshape(2, 2, 2, 2, 2, 2, 2, 2, 2, 2)) # 次元は省略されないらしい・・・それもそうか。"
   ]
  },
  {
   "source": [
    "以下の設定をすると全ての要素を表示するようになるらしいのですが、面倒なので未確認です。\n",
    "```python\n",
    "np.set_printoptions(threshold=sys.maxsize)       # sys module should be imported\n",
    "```\n"
   ],
   "cell_type": "markdown",
   "metadata": {}
  },
  {
   "source": [
    "# [Basic Operations](https://numpy.org/doc/stable/user/quickstart.html#basic-operations)"
   ],
   "cell_type": "markdown",
   "metadata": {}
  },
  {
   "source": [
    "演算は要素ごとに実行されます。"
   ],
   "cell_type": "markdown",
   "metadata": {}
  },
  {
   "cell_type": "code",
   "execution_count": 220,
   "metadata": {},
   "outputs": [
    {
     "output_type": "execute_result",
     "data": {
      "text/plain": [
       "array([0, 1, 2, 3])"
      ]
     },
     "metadata": {},
     "execution_count": 220
    }
   ],
   "source": [
    "a = np.array( [20,30,40,50] )\n",
    "b = np.arange( 4 )\n",
    "b"
   ]
  },
  {
   "cell_type": "code",
   "execution_count": 221,
   "metadata": {},
   "outputs": [
    {
     "output_type": "execute_result",
     "data": {
      "text/plain": [
       "array([20, 29, 38, 47])"
      ]
     },
     "metadata": {},
     "execution_count": 221
    }
   ],
   "source": [
    "c = a-b\n",
    "c"
   ]
  },
  {
   "cell_type": "code",
   "execution_count": 222,
   "metadata": {},
   "outputs": [
    {
     "output_type": "execute_result",
     "data": {
      "text/plain": [
       "array([0, 1, 4, 9])"
      ]
     },
     "metadata": {},
     "execution_count": 222
    }
   ],
   "source": [
    "b**2"
   ]
  },
  {
   "cell_type": "code",
   "execution_count": 223,
   "metadata": {},
   "outputs": [
    {
     "output_type": "execute_result",
     "data": {
      "text/plain": [
       "array([ 9.12945251, -9.88031624,  7.4511316 , -2.62374854])"
      ]
     },
     "metadata": {},
     "execution_count": 223
    }
   ],
   "source": [
    "10*np.sin(a)"
   ]
  },
  {
   "cell_type": "code",
   "execution_count": 224,
   "metadata": {},
   "outputs": [
    {
     "output_type": "execute_result",
     "data": {
      "text/plain": [
       "array([ True,  True, False, False])"
      ]
     },
     "metadata": {},
     "execution_count": 224
    }
   ],
   "source": [
    "a<35"
   ]
  },
  {
   "cell_type": "code",
   "execution_count": 227,
   "metadata": {},
   "outputs": [],
   "source": [
    "A = np.array( [[1,1],\n",
    "               [0,1]] )\n",
    "B = np.array( [[2,0],\n",
    "               [3,4]] )"
   ]
  },
  {
   "cell_type": "code",
   "execution_count": 228,
   "metadata": {},
   "outputs": [
    {
     "output_type": "execute_result",
     "data": {
      "text/plain": [
       "array([[2, 0],\n",
       "       [0, 4]])"
      ]
     },
     "metadata": {},
     "execution_count": 228
    }
   ],
   "source": [
    "A * B                       # elementwise product"
   ]
  },
  {
   "cell_type": "code",
   "execution_count": 229,
   "metadata": {},
   "outputs": [
    {
     "output_type": "execute_result",
     "data": {
      "text/plain": [
       "array([[5, 4],\n",
       "       [3, 4]])"
      ]
     },
     "metadata": {},
     "execution_count": 229
    }
   ],
   "source": [
    "A @ B                       # matrix product"
   ]
  },
  {
   "cell_type": "code",
   "execution_count": 230,
   "metadata": {},
   "outputs": [
    {
     "output_type": "execute_result",
     "data": {
      "text/plain": [
       "array([[5, 4],\n",
       "       [3, 4]])"
      ]
     },
     "metadata": {},
     "execution_count": 230
    }
   ],
   "source": [
    "A.dot(B)                    # another matrix product"
   ]
  },
  {
   "source": [
    "代入演算子も使えます。"
   ],
   "cell_type": "markdown",
   "metadata": {}
  },
  {
   "cell_type": "code",
   "execution_count": 232,
   "metadata": {},
   "outputs": [
    {
     "output_type": "execute_result",
     "data": {
      "text/plain": [
       "array([[3, 3, 3],\n",
       "       [3, 3, 3]])"
      ]
     },
     "metadata": {},
     "execution_count": 232
    }
   ],
   "source": [
    "rg = np.random.default_rng(1)     # create instance of default random number generator\n",
    "a = np.ones((2,3), dtype=int)\n",
    "b = rg.random((2,3))\n",
    "a *= 3\n",
    "a"
   ]
  },
  {
   "cell_type": "code",
   "execution_count": 233,
   "metadata": {},
   "outputs": [
    {
     "output_type": "execute_result",
     "data": {
      "text/plain": [
       "array([[0.51182162, 0.9504637 , 0.14415961],\n",
       "       [0.94864945, 0.31183145, 0.42332645]])"
      ]
     },
     "metadata": {},
     "execution_count": 233
    }
   ],
   "source": [
    "b"
   ]
  },
  {
   "cell_type": "code",
   "execution_count": 234,
   "metadata": {},
   "outputs": [],
   "source": [
    "b += a"
   ]
  },
  {
   "cell_type": "code",
   "execution_count": 235,
   "metadata": {},
   "outputs": [
    {
     "output_type": "execute_result",
     "data": {
      "text/plain": [
       "array([[3.51182162, 3.9504637 , 3.14415961],\n",
       "       [3.94864945, 3.31183145, 3.42332645]])"
      ]
     },
     "metadata": {},
     "execution_count": 235
    }
   ],
   "source": [
    "b"
   ]
  },
  {
   "source": [
    "型の変換は自動的に行われないことに注意しましょう。"
   ],
   "cell_type": "markdown",
   "metadata": {}
  },
  {
   "cell_type": "code",
   "execution_count": 236,
   "metadata": {},
   "outputs": [
    {
     "output_type": "error",
     "ename": "UFuncTypeError",
     "evalue": "Cannot cast ufunc 'add' output from dtype('float64') to dtype('int64') with casting rule 'same_kind'",
     "traceback": [
      "\u001b[0;31m---------------------------------------------------------------------------\u001b[0m",
      "\u001b[0;31mUFuncTypeError\u001b[0m                            Traceback (most recent call last)",
      "\u001b[0;32m<ipython-input-236-9ad166da7def>\u001b[0m in \u001b[0;36m<module>\u001b[0;34m\u001b[0m\n\u001b[0;32m----> 1\u001b[0;31m \u001b[0ma\u001b[0m \u001b[0;34m+=\u001b[0m \u001b[0mb\u001b[0m                            \u001b[0;31m# b is not automatically converted to integer type\u001b[0m\u001b[0;34m\u001b[0m\u001b[0;34m\u001b[0m\u001b[0m\n\u001b[0m",
      "\u001b[0;31mUFuncTypeError\u001b[0m: Cannot cast ufunc 'add' output from dtype('float64') to dtype('int64') with casting rule 'same_kind'"
     ]
    }
   ],
   "source": [
    "a += b                            # b is not automatically converted to integer type"
   ]
  },
  {
   "source": [],
   "cell_type": "markdown",
   "metadata": {}
  },
  {
   "source": [
    "異なるデータ型のarray同士の演算の結果、データ型はに[アップキャスティング](https://e-words.jp/w/%E3%82%AD%E3%83%A3%E3%82%B9%E3%83%88.html)により変化します。"
   ],
   "cell_type": "markdown",
   "metadata": {}
  },
  {
   "cell_type": "code",
   "execution_count": 238,
   "metadata": {},
   "outputs": [
    {
     "output_type": "execute_result",
     "data": {
      "text/plain": [
       "'float64'"
      ]
     },
     "metadata": {},
     "execution_count": 238
    }
   ],
   "source": [
    "a = np.ones(3, dtype=np.int32)\n",
    "b = np.linspace(0,pi,3)\n",
    "b.dtype.name"
   ]
  },
  {
   "cell_type": "code",
   "execution_count": 239,
   "metadata": {},
   "outputs": [
    {
     "output_type": "execute_result",
     "data": {
      "text/plain": [
       "array([1.        , 2.57079633, 4.14159265])"
      ]
     },
     "metadata": {},
     "execution_count": 239
    }
   ],
   "source": [
    "c = a+b\n",
    "c"
   ]
  },
  {
   "cell_type": "code",
   "execution_count": 240,
   "metadata": {},
   "outputs": [
    {
     "output_type": "execute_result",
     "data": {
      "text/plain": [
       "'float64'"
      ]
     },
     "metadata": {},
     "execution_count": 240
    }
   ],
   "source": [
    "c.dtype.name"
   ]
  },
  {
   "cell_type": "code",
   "execution_count": 241,
   "metadata": {},
   "outputs": [
    {
     "output_type": "execute_result",
     "data": {
      "text/plain": [
       "array([ 0.54030231+0.84147098j, -0.84147098+0.54030231j,\n",
       "       -0.54030231-0.84147098j])"
      ]
     },
     "metadata": {},
     "execution_count": 241
    }
   ],
   "source": [
    "d = np.exp(c*1j)\n",
    "d"
   ]
  },
  {
   "cell_type": "code",
   "execution_count": 242,
   "metadata": {},
   "outputs": [
    {
     "output_type": "execute_result",
     "data": {
      "text/plain": [
       "'complex128'"
      ]
     },
     "metadata": {},
     "execution_count": 242
    }
   ],
   "source": [
    "d.dtype.name"
   ]
  },
  {
   "cell_type": "code",
   "execution_count": 243,
   "metadata": {},
   "outputs": [
    {
     "output_type": "execute_result",
     "data": {
      "text/plain": [
       "array([[0.82770259, 0.40919914, 0.54959369],\n",
       "       [0.02755911, 0.75351311, 0.53814331]])"
      ]
     },
     "metadata": {},
     "execution_count": 243
    }
   ],
   "source": [
    "a = rg.random((2,3))\n",
    "a"
   ]
  },
  {
   "source": [
    "以下のようなメソッドも実装されています。"
   ],
   "cell_type": "markdown",
   "metadata": {}
  },
  {
   "cell_type": "code",
   "execution_count": 244,
   "metadata": {},
   "outputs": [
    {
     "output_type": "execute_result",
     "data": {
      "text/plain": [
       "3.1057109529998157"
      ]
     },
     "metadata": {},
     "execution_count": 244
    }
   ],
   "source": [
    "a.sum()"
   ]
  },
  {
   "cell_type": "code",
   "execution_count": 245,
   "metadata": {},
   "outputs": [
    {
     "output_type": "execute_result",
     "data": {
      "text/plain": [
       "0.027559113243068367"
      ]
     },
     "metadata": {},
     "execution_count": 245
    }
   ],
   "source": [
    "a.min()"
   ]
  },
  {
   "cell_type": "code",
   "execution_count": 246,
   "metadata": {},
   "outputs": [
    {
     "output_type": "execute_result",
     "data": {
      "text/plain": [
       "0.8277025938204418"
      ]
     },
     "metadata": {},
     "execution_count": 246
    }
   ],
   "source": [
    "a.max()"
   ]
  },
  {
   "cell_type": "code",
   "execution_count": 247,
   "metadata": {},
   "outputs": [
    {
     "output_type": "execute_result",
     "data": {
      "text/plain": [
       "array([[ 0,  1,  2,  3],\n",
       "       [ 4,  5,  6,  7],\n",
       "       [ 8,  9, 10, 11]])"
      ]
     },
     "metadata": {},
     "execution_count": 247
    }
   ],
   "source": [
    "b = np.arange(12).reshape(3,4)\n",
    "b"
   ]
  },
  {
   "cell_type": "code",
   "execution_count": 248,
   "metadata": {},
   "outputs": [
    {
     "output_type": "execute_result",
     "data": {
      "text/plain": [
       "array([12, 15, 18, 21])"
      ]
     },
     "metadata": {},
     "execution_count": 248
    }
   ],
   "source": [
    "b.sum(axis=0)                            # sum of each column"
   ]
  },
  {
   "cell_type": "code",
   "execution_count": 249,
   "metadata": {},
   "outputs": [
    {
     "output_type": "execute_result",
     "data": {
      "text/plain": [
       "array([0, 4, 8])"
      ]
     },
     "metadata": {},
     "execution_count": 249
    }
   ],
   "source": [
    "b.min(axis=1)                            # min of each row"
   ]
  },
  {
   "cell_type": "code",
   "execution_count": 250,
   "metadata": {},
   "outputs": [
    {
     "output_type": "execute_result",
     "data": {
      "text/plain": [
       "array([[ 0,  1,  3,  6],\n",
       "       [ 4,  9, 15, 22],\n",
       "       [ 8, 17, 27, 38]])"
      ]
     },
     "metadata": {},
     "execution_count": 250
    }
   ],
   "source": [
    "b.cumsum(axis=1)                         # cumulative sum along each row"
   ]
  },
  {
   "source": [
    "# [Universal Functions](https://numpy.org/doc/stable/user/quickstart.html#universal-functions)"
   ],
   "cell_type": "markdown",
   "metadata": {}
  },
  {
   "cell_type": "code",
   "execution_count": 251,
   "metadata": {},
   "outputs": [
    {
     "output_type": "execute_result",
     "data": {
      "text/plain": [
       "array([0, 1, 2])"
      ]
     },
     "metadata": {},
     "execution_count": 251
    }
   ],
   "source": [
    "B = np.arange(3)\n",
    "B"
   ]
  },
  {
   "cell_type": "code",
   "execution_count": 252,
   "metadata": {},
   "outputs": [
    {
     "output_type": "execute_result",
     "data": {
      "text/plain": [
       "array([1.        , 2.71828183, 7.3890561 ])"
      ]
     },
     "metadata": {},
     "execution_count": 252
    }
   ],
   "source": [
    "np.exp(B)"
   ]
  },
  {
   "cell_type": "code",
   "execution_count": 253,
   "metadata": {},
   "outputs": [
    {
     "output_type": "execute_result",
     "data": {
      "text/plain": [
       "array([0.        , 1.        , 1.41421356])"
      ]
     },
     "metadata": {},
     "execution_count": 253
    }
   ],
   "source": [
    "np.sqrt(B)"
   ]
  },
  {
   "cell_type": "code",
   "execution_count": 255,
   "metadata": {},
   "outputs": [],
   "source": [
    "C = np.array([2., -1., 4.])"
   ]
  },
  {
   "cell_type": "code",
   "execution_count": 256,
   "metadata": {},
   "outputs": [
    {
     "output_type": "execute_result",
     "data": {
      "text/plain": [
       "array([2., 0., 6.])"
      ]
     },
     "metadata": {},
     "execution_count": 256
    }
   ],
   "source": [
    "np.add(B, C)"
   ]
  },
  {
   "source": [
    "ufancはここを参照してください。\n",
    "\n",
    "[Universal functions (ufunc)](https://numpy.org/doc/stable/reference/ufuncs.html)"
   ],
   "cell_type": "markdown",
   "metadata": {}
  },
  {
   "source": [
    "# [Indexing, Slicing and Iterating](https://numpy.org/doc/stable/user/quickstart.html#the-basics)"
   ],
   "cell_type": "markdown",
   "metadata": {}
  },
  {
   "cell_type": "code",
   "execution_count": 257,
   "metadata": {},
   "outputs": [
    {
     "output_type": "execute_result",
     "data": {
      "text/plain": [
       "array([  0,   1,   8,  27,  64, 125, 216, 343, 512, 729])"
      ]
     },
     "metadata": {},
     "execution_count": 257
    }
   ],
   "source": [
    "a = np.arange(10)**3\n",
    "a"
   ]
  },
  {
   "cell_type": "code",
   "execution_count": 258,
   "metadata": {},
   "outputs": [
    {
     "output_type": "execute_result",
     "data": {
      "text/plain": [
       "8"
      ]
     },
     "metadata": {},
     "execution_count": 258
    }
   ],
   "source": [
    "a[2]"
   ]
  },
  {
   "cell_type": "code",
   "execution_count": 259,
   "metadata": {},
   "outputs": [
    {
     "output_type": "execute_result",
     "data": {
      "text/plain": [
       "array([ 8, 27, 64])"
      ]
     },
     "metadata": {},
     "execution_count": 259
    }
   ],
   "source": [
    "a[2:5]"
   ]
  },
  {
   "cell_type": "code",
   "execution_count": 260,
   "metadata": {},
   "outputs": [
    {
     "output_type": "execute_result",
     "data": {
      "text/plain": [
       "array([1000,    1, 1000,   27, 1000,  125,  216,  343,  512,  729])"
      ]
     },
     "metadata": {},
     "execution_count": 260
    }
   ],
   "source": [
    "a[:6:2] = 1000\n",
    "a"
   ]
  },
  {
   "cell_type": "code",
   "execution_count": 261,
   "metadata": {},
   "outputs": [
    {
     "output_type": "execute_result",
     "data": {
      "text/plain": [
       "array([ 729,  512,  343,  216,  125, 1000,   27, 1000,    1, 1000])"
      ]
     },
     "metadata": {},
     "execution_count": 261
    }
   ],
   "source": [
    "a[ : :-1]"
   ]
  },
  {
   "cell_type": "code",
   "execution_count": 262,
   "metadata": {},
   "outputs": [
    {
     "output_type": "stream",
     "name": "stdout",
     "text": [
      "9.999999999999998\n1.0\n9.999999999999998\n3.0\n9.999999999999998\n4.999999999999999\n5.999999999999999\n6.999999999999999\n7.999999999999999\n8.999999999999998\n"
     ]
    }
   ],
   "source": [
    "for i in a:\n",
    "    print(i**(1/3.))"
   ]
  },
  {
   "source": [
    "多次元のarrayのインデックスはカンマで区切って与えらられます。"
   ],
   "cell_type": "markdown",
   "metadata": {}
  },
  {
   "cell_type": "code",
   "execution_count": 263,
   "metadata": {},
   "outputs": [],
   "source": [
    "def f(x,y):\n",
    "    return 10*x+y"
   ]
  },
  {
   "cell_type": "code",
   "execution_count": 264,
   "metadata": {},
   "outputs": [],
   "source": [
    "b = np.fromfunction(f,(5,4),dtype=int)"
   ]
  },
  {
   "cell_type": "code",
   "execution_count": 265,
   "metadata": {},
   "outputs": [
    {
     "output_type": "execute_result",
     "data": {
      "text/plain": [
       "23"
      ]
     },
     "metadata": {},
     "execution_count": 265
    }
   ],
   "source": [
    "b[2,3]"
   ]
  },
  {
   "cell_type": "code",
   "execution_count": 266,
   "metadata": {},
   "outputs": [
    {
     "output_type": "execute_result",
     "data": {
      "text/plain": [
       "array([ 1, 11, 21, 31, 41])"
      ]
     },
     "metadata": {},
     "execution_count": 266
    }
   ],
   "source": [
    "b[0:5, 1]                       # each row in the second column of b"
   ]
  },
  {
   "cell_type": "code",
   "execution_count": 267,
   "metadata": {},
   "outputs": [
    {
     "output_type": "execute_result",
     "data": {
      "text/plain": [
       "array([ 1, 11, 21, 31, 41])"
      ]
     },
     "metadata": {},
     "execution_count": 267
    }
   ],
   "source": [
    "b[ : ,1]                        # equivalent to the previous example"
   ]
  },
  {
   "cell_type": "code",
   "execution_count": 268,
   "metadata": {},
   "outputs": [
    {
     "output_type": "execute_result",
     "data": {
      "text/plain": [
       "array([[10, 11, 12, 13],\n",
       "       [20, 21, 22, 23]])"
      ]
     },
     "metadata": {},
     "execution_count": 268
    }
   ],
   "source": [
    "b[1:3, : ]                      # each column in the second and third row of b"
   ]
  },
  {
   "source": [
    "指定したインデックスが次元よりも少ない場合は自動的にcomplete slices (:のこと) に変換されます。"
   ],
   "cell_type": "markdown",
   "metadata": {}
  },
  {
   "cell_type": "code",
   "execution_count": 270,
   "metadata": {},
   "outputs": [
    {
     "output_type": "execute_result",
     "data": {
      "text/plain": [
       "array([40, 41, 42, 43])"
      ]
     },
     "metadata": {},
     "execution_count": 270
    }
   ],
   "source": [
    "b[-1]                             # the last row. Equivalent to b[-1,:]"
   ]
  },
  {
   "source": [
    "`...`を使うことで:を省略することができます。"
   ],
   "cell_type": "markdown",
   "metadata": {}
  },
  {
   "source": [
    "- `x[1,2,...]` is equivalent to `x[1,2,:,:,:]`,\n",
    "- `x[...,3]` to `x[:,:,:,:,3]` and\n",
    "- `x[4,...,5,:]` to `x[4,:,:,5,:]`."
   ],
   "cell_type": "markdown",
   "metadata": {}
  },
  {
   "cell_type": "code",
   "execution_count": 271,
   "metadata": {},
   "outputs": [],
   "source": [
    "c = np.array( [[[  0,  1,  2],   # a 3D array (two stacked 2D arrays)\n",
    "                [ 10, 12, 13]],\n",
    "               [[100,101,102],\n",
    "                [110,112,113]]])"
   ]
  },
  {
   "cell_type": "code",
   "execution_count": 272,
   "metadata": {},
   "outputs": [
    {
     "output_type": "execute_result",
     "data": {
      "text/plain": [
       "(2, 2, 3)"
      ]
     },
     "metadata": {},
     "execution_count": 272
    }
   ],
   "source": [
    "c.shape"
   ]
  },
  {
   "cell_type": "code",
   "execution_count": 273,
   "metadata": {},
   "outputs": [
    {
     "output_type": "execute_result",
     "data": {
      "text/plain": [
       "array([[100, 101, 102],\n",
       "       [110, 112, 113]])"
      ]
     },
     "metadata": {},
     "execution_count": 273
    }
   ],
   "source": [
    "c[1,...]                                   # same as c[1,:,:] or c[1]"
   ]
  },
  {
   "cell_type": "code",
   "execution_count": 274,
   "metadata": {},
   "outputs": [
    {
     "output_type": "execute_result",
     "data": {
      "text/plain": [
       "array([[  2,  13],\n",
       "       [102, 113]])"
      ]
     },
     "metadata": {},
     "execution_count": 274
    }
   ],
   "source": [
    "c[...,2]                                   # same as c[:,:,2]"
   ]
  },
  {
   "source": [
    "イテレートは第一次元について実行されます。"
   ],
   "cell_type": "markdown",
   "metadata": {}
  },
  {
   "cell_type": "code",
   "execution_count": 275,
   "metadata": {},
   "outputs": [
    {
     "output_type": "stream",
     "name": "stdout",
     "text": [
      "[0 1 2 3]\n[10 11 12 13]\n[20 21 22 23]\n[30 31 32 33]\n[40 41 42 43]\n"
     ]
    }
   ],
   "source": [
    "for row in b:\n",
    "    print(row)"
   ]
  },
  {
   "cell_type": "code",
   "execution_count": 276,
   "metadata": {},
   "outputs": [
    {
     "output_type": "stream",
     "name": "stdout",
     "text": [
      "0\n1\n2\n3\n10\n11\n12\n13\n20\n21\n22\n23\n30\n31\n32\n33\n40\n41\n42\n43\n"
     ]
    }
   ],
   "source": [
    "for element in b.flat:\n",
    "    print(element)"
   ]
  },
  {
   "source": [
    "See also\n",
    "\n",
    "[Indexing](https://numpy.org/doc/stable/user/basics.indexing.html#basics-indexing), [Indexing (reference)](https://numpy.org/doc/stable/reference/arrays.indexing.html#arrays-indexing), [newaxis](https://numpy.org/doc/stable/reference/constants.html#numpy.newaxis), [ndenumerate](https://numpy.org/doc/stable/reference/generated/numpy.ndenumerate.html#numpy.ndenumerate), [indices](https://numpy.org/doc/stable/reference/generated/numpy.indices.html#numpy.indices)"
   ],
   "cell_type": "markdown",
   "metadata": {}
  },
  {
   "cell_type": "code",
   "execution_count": null,
   "metadata": {},
   "outputs": [],
   "source": []
  }
 ],
 "metadata": {
  "kernelspec": {
   "name": "python3",
   "display_name": "Python 3.7.4 64-bit ('anaconda3-5.3.1': pyenv)"
  },
  "language_info": {
   "codemirror_mode": {
    "name": "ipython",
    "version": 3
   },
   "file_extension": ".py",
   "mimetype": "text/x-python",
   "name": "python",
   "nbconvert_exporter": "python",
   "pygments_lexer": "ipython3",
   "version": "3.7.4"
  },
  "interpreter": {
   "hash": "646deb94c1d279c33474e21ee82413659c732a13119e7648ed1cecf7e5230405"
  }
 },
 "nbformat": 4,
 "nbformat_minor": 4
}