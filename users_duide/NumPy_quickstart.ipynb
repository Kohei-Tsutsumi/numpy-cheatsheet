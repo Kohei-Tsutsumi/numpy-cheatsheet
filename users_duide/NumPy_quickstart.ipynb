{
 "cells": [
  {
   "cell_type": "code",
   "execution_count": 48,
   "metadata": {},
   "outputs": [],
   "source": [
    "from IPython.display import Image\n",
    "import numpy as np"
   ]
  },
  {
   "source": [
    "# [The Basics](https://numpy.org/doc/stable/user/quickstart.html#the-basics)"
   ],
   "cell_type": "markdown",
   "metadata": {}
  },
  {
   "source": [
    "NumPyではN次元のarrayを扱います。各次元のことをaxisと呼びます。\n",
    "\n",
    "以下の例ではfirst axisの長さは2で、second axisの長さは3です。次元は一番外のカッコからfirst、second、、、と数えると覚えておきましょう。\n",
    "```python\n",
    "[[ 1., 0., 0.],\n",
    " [ 0., 1., 2.]]\n",
    "```"
   ],
   "cell_type": "markdown",
   "metadata": {}
  },
  {
   "source": [
    "## [An example](https://numpy.org/doc/stable/user/quickstart.html#an-example)"
   ],
   "cell_type": "markdown",
   "metadata": {}
  },
  {
   "cell_type": "code",
   "execution_count": 37,
   "metadata": {},
   "outputs": [
    {
     "output_type": "execute_result",
     "data": {
      "text/plain": [
       "array([[ 0,  1,  2,  3,  4],\n",
       "       [ 5,  6,  7,  8,  9],\n",
       "       [10, 11, 12, 13, 14]])"
      ]
     },
     "metadata": {},
     "execution_count": 37
    }
   ],
   "source": [
    "a = np.arange(15).reshape(3, 5)\n",
    "a"
   ]
  },
  {
   "cell_type": "code",
   "execution_count": 38,
   "metadata": {},
   "outputs": [
    {
     "output_type": "execute_result",
     "data": {
      "text/plain": [
       "(3, 5)"
      ]
     },
     "metadata": {},
     "execution_count": 38
    }
   ],
   "source": [
    "a.shape"
   ]
  },
  {
   "cell_type": "code",
   "execution_count": 44,
   "metadata": {},
   "outputs": [
    {
     "output_type": "execute_result",
     "data": {
      "text/plain": [
       "2"
      ]
     },
     "metadata": {},
     "execution_count": 44
    }
   ],
   "source": [
    "a.ndim # 次元数。つまりaxisの数。"
   ]
  },
  {
   "cell_type": "code",
   "execution_count": 49,
   "metadata": {},
   "outputs": [
    {
     "output_type": "execute_result",
     "data": {
      "text/plain": [
       "dtype('int64')"
      ]
     },
     "metadata": {},
     "execution_count": 49
    }
   ],
   "source": [
    "a.dtype"
   ]
  },
  {
   "cell_type": "code",
   "execution_count": 45,
   "metadata": {},
   "outputs": [
    {
     "output_type": "execute_result",
     "data": {
      "text/plain": [
       "'int64'"
      ]
     },
     "metadata": {},
     "execution_count": 45
    }
   ],
   "source": [
    "a.dtype.name"
   ]
  },
  {
   "cell_type": "code",
   "execution_count": 46,
   "metadata": {},
   "outputs": [
    {
     "output_type": "execute_result",
     "data": {
      "text/plain": [
       "8"
      ]
     },
     "metadata": {},
     "execution_count": 46
    }
   ],
   "source": [
    "a.itemsize # 各要素のbyte数。"
   ]
  },
  {
   "cell_type": "code",
   "execution_count": 42,
   "metadata": {},
   "outputs": [
    {
     "output_type": "execute_result",
     "data": {
      "text/plain": [
       "15"
      ]
     },
     "metadata": {},
     "execution_count": 42
    }
   ],
   "source": [
    "a.size"
   ]
  },
  {
   "cell_type": "code",
   "execution_count": 43,
   "metadata": {},
   "outputs": [
    {
     "output_type": "execute_result",
     "data": {
      "text/plain": [
       "numpy.ndarray"
      ]
     },
     "metadata": {},
     "execution_count": 43
    }
   ],
   "source": [
    "type(a)"
   ]
  },
  {
   "source": [
    "## [Array Creation](https://numpy.org/doc/stable/user/quickstart.html#array-creation)"
   ],
   "cell_type": "markdown",
   "metadata": {}
  },
  {
   "source": [
    "`array`関数を使ってPythonのリストからarrayを作成します。"
   ],
   "cell_type": "markdown",
   "metadata": {}
  },
  {
   "cell_type": "code",
   "execution_count": 51,
   "metadata": {},
   "outputs": [],
   "source": [
    "a = np.array([2, 3, 4])\n",
    "b = np.array([1.2, 3.5, 5.1])"
   ]
  },
  {
   "cell_type": "code",
   "execution_count": 52,
   "metadata": {},
   "outputs": [
    {
     "output_type": "execute_result",
     "data": {
      "text/plain": [
       "dtype('int64')"
      ]
     },
     "metadata": {},
     "execution_count": 52
    }
   ],
   "source": [
    "a.dtype"
   ]
  },
  {
   "cell_type": "code",
   "execution_count": 53,
   "metadata": {},
   "outputs": [
    {
     "output_type": "execute_result",
     "data": {
      "text/plain": [
       "dtype('float64')"
      ]
     },
     "metadata": {},
     "execution_count": 53
    }
   ],
   "source": [
    "b.dtype"
   ]
  },
  {
   "cell_type": "code",
   "execution_count": 56,
   "metadata": {},
   "outputs": [
    {
     "output_type": "execute_result",
     "data": {
      "text/plain": [
       "array([[1.5, 2. , 3. ],\n",
       "       [4. , 5. , 6. ]])"
      ]
     },
     "metadata": {},
     "execution_count": 56
    }
   ],
   "source": [
    "b = np.array([(1.5,2,3), (4,5,6)]) # 2次元以上のarrayもこのように作れる。\n",
    "b"
   ]
  },
  {
   "cell_type": "code",
   "execution_count": 58,
   "metadata": {},
   "outputs": [
    {
     "output_type": "execute_result",
     "data": {
      "text/plain": [
       "array([[1.+0.j, 2.+0.j],\n",
       "       [3.+0.j, 4.+0.j]])"
      ]
     },
     "metadata": {},
     "execution_count": 58
    }
   ],
   "source": [
    "c = np.array( [ [1,2], [3,4] ], dtype=complex )\n",
    "c"
   ]
  },
  {
   "source": [
    "サイズを指定してarrayを作成する関数もあります。"
   ],
   "cell_type": "markdown",
   "metadata": {}
  },
  {
   "cell_type": "code",
   "execution_count": 59,
   "metadata": {},
   "outputs": [
    {
     "output_type": "execute_result",
     "data": {
      "text/plain": [
       "array([[0., 0., 0., 0.],\n",
       "       [0., 0., 0., 0.],\n",
       "       [0., 0., 0., 0.]])"
      ]
     },
     "metadata": {},
     "execution_count": 59
    }
   ],
   "source": [
    "np.zeros((3, 4))"
   ]
  },
  {
   "cell_type": "code",
   "execution_count": 60,
   "metadata": {},
   "outputs": [
    {
     "output_type": "execute_result",
     "data": {
      "text/plain": [
       "array([[[1, 1, 1, 1],\n",
       "        [1, 1, 1, 1],\n",
       "        [1, 1, 1, 1]],\n",
       "\n",
       "       [[1, 1, 1, 1],\n",
       "        [1, 1, 1, 1],\n",
       "        [1, 1, 1, 1]]], dtype=int16)"
      ]
     },
     "metadata": {},
     "execution_count": 60
    }
   ],
   "source": [
    "np.ones( (2,3,4), dtype=np.int16 )                # dtype can also be specified"
   ]
  },
  {
   "cell_type": "code",
   "execution_count": 168,
   "metadata": {},
   "outputs": [
    {
     "output_type": "execute_result",
     "data": {
      "text/plain": [
       "array([[5.92878775e-323, 2.00000000e+000, 5.10959527e-158],\n",
       "       [4.00000000e+000, 1.19787521e-002, 6.00000000e+000]])"
      ]
     },
     "metadata": {},
     "execution_count": 168
    }
   ],
   "source": [
    "np.empty( (2,3), )                                 # uninitialized\n",
    "# メモリの状況に依存してランダムに初期化されるらしい。"
   ]
  },
  {
   "source": [
    "`range`関数と同じような挙動の`arange`関数もあります。"
   ],
   "cell_type": "markdown",
   "metadata": {}
  },
  {
   "cell_type": "code",
   "execution_count": 169,
   "metadata": {},
   "outputs": [
    {
     "output_type": "execute_result",
     "data": {
      "text/plain": [
       "array([10, 15, 20, 25])"
      ]
     },
     "metadata": {},
     "execution_count": 169
    }
   ],
   "source": [
    "np.arange( 10, 30, 5 )"
   ]
  },
  {
   "cell_type": "code",
   "execution_count": 170,
   "metadata": {},
   "outputs": [
    {
     "output_type": "execute_result",
     "data": {
      "text/plain": [
       "array([0. , 0.3, 0.6, 0.9, 1.2, 1.5, 1.8])"
      ]
     },
     "metadata": {},
     "execution_count": 170
    }
   ],
   "source": [
    "np.arange( 0, 2, 0.3 )                 # it accepts float arguments"
   ]
  },
  {
   "source": [
    "`arange`関数の引数に小数点を指定した場合に、有限の小数点の精度の限界があるので要素数が予想と異なる場合があります。そのため、`linespace`関数を使う方が望ましいです。"
   ],
   "cell_type": "markdown",
   "metadata": {}
  },
  {
   "cell_type": "code",
   "execution_count": 206,
   "metadata": {},
   "outputs": [
    {
     "output_type": "stream",
     "name": "stdout",
     "text": [
      "[0.         0.33333333 0.66666667 1.         1.33333333 1.66666667\n 2.         2.33333333]\n[0.         0.33333333 0.66666667 1.         1.33333333 1.66666667\n 2.         2.33333333]\n"
     ]
    }
   ],
   "source": [
    "# 例えば次の二つは同じ結果になる。\n",
    "print(np.arange(0, 7/3, 1/3))\n",
    "print(np.arange(0, 8/3, 1/3))"
   ]
  },
  {
   "cell_type": "code",
   "execution_count": 171,
   "metadata": {},
   "outputs": [
    {
     "output_type": "execute_result",
     "data": {
      "text/plain": [
       "array([0.  , 0.25, 0.5 , 0.75, 1.  , 1.25, 1.5 , 1.75, 2.  ])"
      ]
     },
     "metadata": {},
     "execution_count": 171
    }
   ],
   "source": [
    "from numpy import pi\n",
    "np.linspace( 0, 2, 9 )                 # 9 numbers from 0 to 2"
   ]
  },
  {
   "cell_type": "code",
   "execution_count": 210,
   "metadata": {},
   "outputs": [
    {
     "output_type": "execute_result",
     "data": {
      "text/plain": [
       "array([ 0.00000000e+00,  6.34239197e-02,  1.26592454e-01,  1.89251244e-01,\n",
       "        2.51147987e-01,  3.12033446e-01,  3.71662456e-01,  4.29794912e-01,\n",
       "        4.86196736e-01,  5.40640817e-01,  5.92907929e-01,  6.42787610e-01,\n",
       "        6.90079011e-01,  7.34591709e-01,  7.76146464e-01,  8.14575952e-01,\n",
       "        8.49725430e-01,  8.81453363e-01,  9.09631995e-01,  9.34147860e-01,\n",
       "        9.54902241e-01,  9.71811568e-01,  9.84807753e-01,  9.93838464e-01,\n",
       "        9.98867339e-01,  9.99874128e-01,  9.96854776e-01,  9.89821442e-01,\n",
       "        9.78802446e-01,  9.63842159e-01,  9.45000819e-01,  9.22354294e-01,\n",
       "        8.95993774e-01,  8.66025404e-01,  8.32569855e-01,  7.95761841e-01,\n",
       "        7.55749574e-01,  7.12694171e-01,  6.66769001e-01,  6.18158986e-01,\n",
       "        5.67059864e-01,  5.13677392e-01,  4.58226522e-01,  4.00930535e-01,\n",
       "        3.42020143e-01,  2.81732557e-01,  2.20310533e-01,  1.58001396e-01,\n",
       "        9.50560433e-02,  3.17279335e-02, -3.17279335e-02, -9.50560433e-02,\n",
       "       -1.58001396e-01, -2.20310533e-01, -2.81732557e-01, -3.42020143e-01,\n",
       "       -4.00930535e-01, -4.58226522e-01, -5.13677392e-01, -5.67059864e-01,\n",
       "       -6.18158986e-01, -6.66769001e-01, -7.12694171e-01, -7.55749574e-01,\n",
       "       -7.95761841e-01, -8.32569855e-01, -8.66025404e-01, -8.95993774e-01,\n",
       "       -9.22354294e-01, -9.45000819e-01, -9.63842159e-01, -9.78802446e-01,\n",
       "       -9.89821442e-01, -9.96854776e-01, -9.99874128e-01, -9.98867339e-01,\n",
       "       -9.93838464e-01, -9.84807753e-01, -9.71811568e-01, -9.54902241e-01,\n",
       "       -9.34147860e-01, -9.09631995e-01, -8.81453363e-01, -8.49725430e-01,\n",
       "       -8.14575952e-01, -7.76146464e-01, -7.34591709e-01, -6.90079011e-01,\n",
       "       -6.42787610e-01, -5.92907929e-01, -5.40640817e-01, -4.86196736e-01,\n",
       "       -4.29794912e-01, -3.71662456e-01, -3.12033446e-01, -2.51147987e-01,\n",
       "       -1.89251244e-01, -1.26592454e-01, -6.34239197e-02, -2.44929360e-16])"
      ]
     },
     "metadata": {},
     "execution_count": 210
    }
   ],
   "source": [
    "x = np.linspace( 0, 2*pi, 100 )        # useful to evaluate function at lots of points\n",
    "f = np.sin(x)\n",
    "f"
   ]
  },
  {
   "source": [
    "以下のように実行すれば上の例で予想していなかった挙動は回避できます。"
   ],
   "cell_type": "markdown",
   "metadata": {}
  },
  {
   "cell_type": "code",
   "execution_count": 209,
   "metadata": {},
   "outputs": [
    {
     "output_type": "stream",
     "name": "stdout",
     "text": [
      "[0.         0.33333333 0.66666667 1.         1.33333333 1.66666667\n 2.         2.33333333]\n[0.         0.33333333 0.66666667 1.         1.33333333 1.66666667\n 2.         2.33333333 2.66666667]\n"
     ]
    }
   ],
   "source": [
    "print(np.linspace(0, 7/3, 8))\n",
    "print(np.linspace(0, 8/3, 9))"
   ]
  },
  {
   "source": [
    "## [Printing Arrays](https://numpy.org/doc/stable/user/quickstart.html#printing-arrays)"
   ],
   "cell_type": "markdown",
   "metadata": {}
  },
  {
   "cell_type": "code",
   "execution_count": 213,
   "metadata": {},
   "outputs": [
    {
     "output_type": "stream",
     "name": "stdout",
     "text": [
      "[0 1 2 3 4 5]\n"
     ]
    }
   ],
   "source": [
    "a = np.arange(6)                         # 1d array\n",
    "print(a)"
   ]
  },
  {
   "cell_type": "code",
   "execution_count": 214,
   "metadata": {},
   "outputs": [
    {
     "output_type": "stream",
     "name": "stdout",
     "text": [
      "[[ 0  1  2]\n [ 3  4  5]\n [ 6  7  8]\n [ 9 10 11]]\n"
     ]
    }
   ],
   "source": [
    "b = np.arange(12).reshape(4,3)           # 2d array\n",
    "print(b)"
   ]
  },
  {
   "cell_type": "code",
   "execution_count": 215,
   "metadata": {},
   "outputs": [
    {
     "output_type": "stream",
     "name": "stdout",
     "text": [
      "[[[ 0  1  2  3]\n  [ 4  5  6  7]\n  [ 8  9 10 11]]\n\n [[12 13 14 15]\n  [16 17 18 19]\n  [20 21 22 23]]]\n"
     ]
    }
   ],
   "source": [
    "c = np.arange(24).reshape(2,3,4)         # 3d array\n",
    "print(c)"
   ]
  },
  {
   "cell_type": "code",
   "execution_count": 216,
   "metadata": {},
   "outputs": [
    {
     "output_type": "stream",
     "name": "stdout",
     "text": [
      "[   0    1    2 ... 9997 9998 9999]\n"
     ]
    }
   ],
   "source": [
    "print(np.arange(10000))"
   ]
  },
  {
   "cell_type": "code",
   "execution_count": 217,
   "metadata": {},
   "outputs": [
    {
     "output_type": "stream",
     "name": "stdout",
     "text": [
      "[[   0    1    2 ...   97   98   99]\n [ 100  101  102 ...  197  198  199]\n [ 200  201  202 ...  297  298  299]\n ...\n [9700 9701 9702 ... 9797 9798 9799]\n [9800 9801 9802 ... 9897 9898 9899]\n [9900 9901 9902 ... 9997 9998 9999]]\n"
     ]
    }
   ],
   "source": [
    "print(np.arange(10000).reshape(100,100))"
   ]
  },
  {
   "cell_type": "code",
   "execution_count": 219,
   "metadata": {},
   "outputs": [
    {
     "output_type": "stream",
     "name": "stdout",
     "text": [
      "[[[[[[[[[[   0    1]\n         [   2    3]]\n\n        [[   4    5]\n         [   6    7]]]\n\n\n       [[[   8    9]\n         [  10   11]]\n\n        [[  12   13]\n         [  14   15]]]]\n\n\n\n      [[[[  16   17]\n         [  18   19]]\n\n        [[  20   21]\n         [  22   23]]]\n\n\n       [[[  24   25]\n         [  26   27]]\n\n        [[  28   29]\n         [  30   31]]]]]\n\n\n\n\n     [[[[[  32   33]\n         [  34   35]]\n\n        [[  36   37]\n         [  38   39]]]\n\n\n       [[[  40   41]\n         [  42   43]]\n\n        [[  44   45]\n         [  46   47]]]]\n\n\n\n      [[[[  48   49]\n         [  50   51]]\n\n        [[  52   53]\n         [  54   55]]]\n\n\n       [[[  56   57]\n         [  58   59]]\n\n        [[  60   61]\n         [  62   63]]]]]]\n\n\n\n\n\n    [[[[[[  64   65]\n         [  66   67]]\n\n        [[  68   69]\n         [  70   71]]]\n\n\n       [[[  72   73]\n         [  74   75]]\n\n        [[  76   77]\n         [  78   79]]]]\n\n\n\n      [[[[  80   81]\n         [  82   83]]\n\n        [[  84   85]\n         [  86   87]]]\n\n\n       [[[  88   89]\n         [  90   91]]\n\n        [[  92   93]\n         [  94   95]]]]]\n\n\n\n\n     [[[[[  96   97]\n         [  98   99]]\n\n        [[ 100  101]\n         [ 102  103]]]\n\n\n       [[[ 104  105]\n         [ 106  107]]\n\n        [[ 108  109]\n         [ 110  111]]]]\n\n\n\n      [[[[ 112  113]\n         [ 114  115]]\n\n        [[ 116  117]\n         [ 118  119]]]\n\n\n       [[[ 120  121]\n         [ 122  123]]\n\n        [[ 124  125]\n         [ 126  127]]]]]]]\n\n\n\n\n\n\n   [[[[[[[ 128  129]\n         [ 130  131]]\n\n        [[ 132  133]\n         [ 134  135]]]\n\n\n       [[[ 136  137]\n         [ 138  139]]\n\n        [[ 140  141]\n         [ 142  143]]]]\n\n\n\n      [[[[ 144  145]\n         [ 146  147]]\n\n        [[ 148  149]\n         [ 150  151]]]\n\n\n       [[[ 152  153]\n         [ 154  155]]\n\n        [[ 156  157]\n         [ 158  159]]]]]\n\n\n\n\n     [[[[[ 160  161]\n         [ 162  163]]\n\n        [[ 164  165]\n         [ 166  167]]]\n\n\n       [[[ 168  169]\n         [ 170  171]]\n\n        [[ 172  173]\n         [ 174  175]]]]\n\n\n\n      [[[[ 176  177]\n         [ 178  179]]\n\n        [[ 180  181]\n         [ 182  183]]]\n\n\n       [[[ 184  185]\n         [ 186  187]]\n\n        [[ 188  189]\n         [ 190  191]]]]]]\n\n\n\n\n\n    [[[[[[ 192  193]\n         [ 194  195]]\n\n        [[ 196  197]\n         [ 198  199]]]\n\n\n       [[[ 200  201]\n         [ 202  203]]\n\n        [[ 204  205]\n         [ 206  207]]]]\n\n\n\n      [[[[ 208  209]\n         [ 210  211]]\n\n        [[ 212  213]\n         [ 214  215]]]\n\n\n       [[[ 216  217]\n         [ 218  219]]\n\n        [[ 220  221]\n         [ 222  223]]]]]\n\n\n\n\n     [[[[[ 224  225]\n         [ 226  227]]\n\n        [[ 228  229]\n         [ 230  231]]]\n\n\n       [[[ 232  233]\n         [ 234  235]]\n\n        [[ 236  237]\n         [ 238  239]]]]\n\n\n\n      [[[[ 240  241]\n         [ 242  243]]\n\n        [[ 244  245]\n         [ 246  247]]]\n\n\n       [[[ 248  249]\n         [ 250  251]]\n\n        [[ 252  253]\n         [ 254  255]]]]]]]]\n\n\n\n\n\n\n\n  [[[[[[[[ 256  257]\n         [ 258  259]]\n\n        [[ 260  261]\n         [ 262  263]]]\n\n\n       [[[ 264  265]\n         [ 266  267]]\n\n        [[ 268  269]\n         [ 270  271]]]]\n\n\n\n      [[[[ 272  273]\n         [ 274  275]]\n\n        [[ 276  277]\n         [ 278  279]]]\n\n\n       [[[ 280  281]\n         [ 282  283]]\n\n        [[ 284  285]\n         [ 286  287]]]]]\n\n\n\n\n     [[[[[ 288  289]\n         [ 290  291]]\n\n        [[ 292  293]\n         [ 294  295]]]\n\n\n       [[[ 296  297]\n         [ 298  299]]\n\n        [[ 300  301]\n         [ 302  303]]]]\n\n\n\n      [[[[ 304  305]\n         [ 306  307]]\n\n        [[ 308  309]\n         [ 310  311]]]\n\n\n       [[[ 312  313]\n         [ 314  315]]\n\n        [[ 316  317]\n         [ 318  319]]]]]]\n\n\n\n\n\n    [[[[[[ 320  321]\n         [ 322  323]]\n\n        [[ 324  325]\n         [ 326  327]]]\n\n\n       [[[ 328  329]\n         [ 330  331]]\n\n        [[ 332  333]\n         [ 334  335]]]]\n\n\n\n      [[[[ 336  337]\n         [ 338  339]]\n\n        [[ 340  341]\n         [ 342  343]]]\n\n\n       [[[ 344  345]\n         [ 346  347]]\n\n        [[ 348  349]\n         [ 350  351]]]]]\n\n\n\n\n     [[[[[ 352  353]\n         [ 354  355]]\n\n        [[ 356  357]\n         [ 358  359]]]\n\n\n       [[[ 360  361]\n         [ 362  363]]\n\n        [[ 364  365]\n         [ 366  367]]]]\n\n\n\n      [[[[ 368  369]\n         [ 370  371]]\n\n        [[ 372  373]\n         [ 374  375]]]\n\n\n       [[[ 376  377]\n         [ 378  379]]\n\n        [[ 380  381]\n         [ 382  383]]]]]]]\n\n\n\n\n\n\n   [[[[[[[ 384  385]\n         [ 386  387]]\n\n        [[ 388  389]\n         [ 390  391]]]\n\n\n       [[[ 392  393]\n         [ 394  395]]\n\n        [[ 396  397]\n         [ 398  399]]]]\n\n\n\n      [[[[ 400  401]\n         [ 402  403]]\n\n        [[ 404  405]\n         [ 406  407]]]\n\n\n       [[[ 408  409]\n         [ 410  411]]\n\n        [[ 412  413]\n         [ 414  415]]]]]\n\n\n\n\n     [[[[[ 416  417]\n         [ 418  419]]\n\n        [[ 420  421]\n         [ 422  423]]]\n\n\n       [[[ 424  425]\n         [ 426  427]]\n\n        [[ 428  429]\n         [ 430  431]]]]\n\n\n\n      [[[[ 432  433]\n         [ 434  435]]\n\n        [[ 436  437]\n         [ 438  439]]]\n\n\n       [[[ 440  441]\n         [ 442  443]]\n\n        [[ 444  445]\n         [ 446  447]]]]]]\n\n\n\n\n\n    [[[[[[ 448  449]\n         [ 450  451]]\n\n        [[ 452  453]\n         [ 454  455]]]\n\n\n       [[[ 456  457]\n         [ 458  459]]\n\n        [[ 460  461]\n         [ 462  463]]]]\n\n\n\n      [[[[ 464  465]\n         [ 466  467]]\n\n        [[ 468  469]\n         [ 470  471]]]\n\n\n       [[[ 472  473]\n         [ 474  475]]\n\n        [[ 476  477]\n         [ 478  479]]]]]\n\n\n\n\n     [[[[[ 480  481]\n         [ 482  483]]\n\n        [[ 484  485]\n         [ 486  487]]]\n\n\n       [[[ 488  489]\n         [ 490  491]]\n\n        [[ 492  493]\n         [ 494  495]]]]\n\n\n\n      [[[[ 496  497]\n         [ 498  499]]\n\n        [[ 500  501]\n         [ 502  503]]]\n\n\n       [[[ 504  505]\n         [ 506  507]]\n\n        [[ 508  509]\n         [ 510  511]]]]]]]]]\n\n\n\n\n\n\n\n\n [[[[[[[[[ 512  513]\n         [ 514  515]]\n\n        [[ 516  517]\n         [ 518  519]]]\n\n\n       [[[ 520  521]\n         [ 522  523]]\n\n        [[ 524  525]\n         [ 526  527]]]]\n\n\n\n      [[[[ 528  529]\n         [ 530  531]]\n\n        [[ 532  533]\n         [ 534  535]]]\n\n\n       [[[ 536  537]\n         [ 538  539]]\n\n        [[ 540  541]\n         [ 542  543]]]]]\n\n\n\n\n     [[[[[ 544  545]\n         [ 546  547]]\n\n        [[ 548  549]\n         [ 550  551]]]\n\n\n       [[[ 552  553]\n         [ 554  555]]\n\n        [[ 556  557]\n         [ 558  559]]]]\n\n\n\n      [[[[ 560  561]\n         [ 562  563]]\n\n        [[ 564  565]\n         [ 566  567]]]\n\n\n       [[[ 568  569]\n         [ 570  571]]\n\n        [[ 572  573]\n         [ 574  575]]]]]]\n\n\n\n\n\n    [[[[[[ 576  577]\n         [ 578  579]]\n\n        [[ 580  581]\n         [ 582  583]]]\n\n\n       [[[ 584  585]\n         [ 586  587]]\n\n        [[ 588  589]\n         [ 590  591]]]]\n\n\n\n      [[[[ 592  593]\n         [ 594  595]]\n\n        [[ 596  597]\n         [ 598  599]]]\n\n\n       [[[ 600  601]\n         [ 602  603]]\n\n        [[ 604  605]\n         [ 606  607]]]]]\n\n\n\n\n     [[[[[ 608  609]\n         [ 610  611]]\n\n        [[ 612  613]\n         [ 614  615]]]\n\n\n       [[[ 616  617]\n         [ 618  619]]\n\n        [[ 620  621]\n         [ 622  623]]]]\n\n\n\n      [[[[ 624  625]\n         [ 626  627]]\n\n        [[ 628  629]\n         [ 630  631]]]\n\n\n       [[[ 632  633]\n         [ 634  635]]\n\n        [[ 636  637]\n         [ 638  639]]]]]]]\n\n\n\n\n\n\n   [[[[[[[ 640  641]\n         [ 642  643]]\n\n        [[ 644  645]\n         [ 646  647]]]\n\n\n       [[[ 648  649]\n         [ 650  651]]\n\n        [[ 652  653]\n         [ 654  655]]]]\n\n\n\n      [[[[ 656  657]\n         [ 658  659]]\n\n        [[ 660  661]\n         [ 662  663]]]\n\n\n       [[[ 664  665]\n         [ 666  667]]\n\n        [[ 668  669]\n         [ 670  671]]]]]\n\n\n\n\n     [[[[[ 672  673]\n         [ 674  675]]\n\n        [[ 676  677]\n         [ 678  679]]]\n\n\n       [[[ 680  681]\n         [ 682  683]]\n\n        [[ 684  685]\n         [ 686  687]]]]\n\n\n\n      [[[[ 688  689]\n         [ 690  691]]\n\n        [[ 692  693]\n         [ 694  695]]]\n\n\n       [[[ 696  697]\n         [ 698  699]]\n\n        [[ 700  701]\n         [ 702  703]]]]]]\n\n\n\n\n\n    [[[[[[ 704  705]\n         [ 706  707]]\n\n        [[ 708  709]\n         [ 710  711]]]\n\n\n       [[[ 712  713]\n         [ 714  715]]\n\n        [[ 716  717]\n         [ 718  719]]]]\n\n\n\n      [[[[ 720  721]\n         [ 722  723]]\n\n        [[ 724  725]\n         [ 726  727]]]\n\n\n       [[[ 728  729]\n         [ 730  731]]\n\n        [[ 732  733]\n         [ 734  735]]]]]\n\n\n\n\n     [[[[[ 736  737]\n         [ 738  739]]\n\n        [[ 740  741]\n         [ 742  743]]]\n\n\n       [[[ 744  745]\n         [ 746  747]]\n\n        [[ 748  749]\n         [ 750  751]]]]\n\n\n\n      [[[[ 752  753]\n         [ 754  755]]\n\n        [[ 756  757]\n         [ 758  759]]]\n\n\n       [[[ 760  761]\n         [ 762  763]]\n\n        [[ 764  765]\n         [ 766  767]]]]]]]]\n\n\n\n\n\n\n\n  [[[[[[[[ 768  769]\n         [ 770  771]]\n\n        [[ 772  773]\n         [ 774  775]]]\n\n\n       [[[ 776  777]\n         [ 778  779]]\n\n        [[ 780  781]\n         [ 782  783]]]]\n\n\n\n      [[[[ 784  785]\n         [ 786  787]]\n\n        [[ 788  789]\n         [ 790  791]]]\n\n\n       [[[ 792  793]\n         [ 794  795]]\n\n        [[ 796  797]\n         [ 798  799]]]]]\n\n\n\n\n     [[[[[ 800  801]\n         [ 802  803]]\n\n        [[ 804  805]\n         [ 806  807]]]\n\n\n       [[[ 808  809]\n         [ 810  811]]\n\n        [[ 812  813]\n         [ 814  815]]]]\n\n\n\n      [[[[ 816  817]\n         [ 818  819]]\n\n        [[ 820  821]\n         [ 822  823]]]\n\n\n       [[[ 824  825]\n         [ 826  827]]\n\n        [[ 828  829]\n         [ 830  831]]]]]]\n\n\n\n\n\n    [[[[[[ 832  833]\n         [ 834  835]]\n\n        [[ 836  837]\n         [ 838  839]]]\n\n\n       [[[ 840  841]\n         [ 842  843]]\n\n        [[ 844  845]\n         [ 846  847]]]]\n\n\n\n      [[[[ 848  849]\n         [ 850  851]]\n\n        [[ 852  853]\n         [ 854  855]]]\n\n\n       [[[ 856  857]\n         [ 858  859]]\n\n        [[ 860  861]\n         [ 862  863]]]]]\n\n\n\n\n     [[[[[ 864  865]\n         [ 866  867]]\n\n        [[ 868  869]\n         [ 870  871]]]\n\n\n       [[[ 872  873]\n         [ 874  875]]\n\n        [[ 876  877]\n         [ 878  879]]]]\n\n\n\n      [[[[ 880  881]\n         [ 882  883]]\n\n        [[ 884  885]\n         [ 886  887]]]\n\n\n       [[[ 888  889]\n         [ 890  891]]\n\n        [[ 892  893]\n         [ 894  895]]]]]]]\n\n\n\n\n\n\n   [[[[[[[ 896  897]\n         [ 898  899]]\n\n        [[ 900  901]\n         [ 902  903]]]\n\n\n       [[[ 904  905]\n         [ 906  907]]\n\n        [[ 908  909]\n         [ 910  911]]]]\n\n\n\n      [[[[ 912  913]\n         [ 914  915]]\n\n        [[ 916  917]\n         [ 918  919]]]\n\n\n       [[[ 920  921]\n         [ 922  923]]\n\n        [[ 924  925]\n         [ 926  927]]]]]\n\n\n\n\n     [[[[[ 928  929]\n         [ 930  931]]\n\n        [[ 932  933]\n         [ 934  935]]]\n\n\n       [[[ 936  937]\n         [ 938  939]]\n\n        [[ 940  941]\n         [ 942  943]]]]\n\n\n\n      [[[[ 944  945]\n         [ 946  947]]\n\n        [[ 948  949]\n         [ 950  951]]]\n\n\n       [[[ 952  953]\n         [ 954  955]]\n\n        [[ 956  957]\n         [ 958  959]]]]]]\n\n\n\n\n\n    [[[[[[ 960  961]\n         [ 962  963]]\n\n        [[ 964  965]\n         [ 966  967]]]\n\n\n       [[[ 968  969]\n         [ 970  971]]\n\n        [[ 972  973]\n         [ 974  975]]]]\n\n\n\n      [[[[ 976  977]\n         [ 978  979]]\n\n        [[ 980  981]\n         [ 982  983]]]\n\n\n       [[[ 984  985]\n         [ 986  987]]\n\n        [[ 988  989]\n         [ 990  991]]]]]\n\n\n\n\n     [[[[[ 992  993]\n         [ 994  995]]\n\n        [[ 996  997]\n         [ 998  999]]]\n\n\n       [[[1000 1001]\n         [1002 1003]]\n\n        [[1004 1005]\n         [1006 1007]]]]\n\n\n\n      [[[[1008 1009]\n         [1010 1011]]\n\n        [[1012 1013]\n         [1014 1015]]]\n\n\n       [[[1016 1017]\n         [1018 1019]]\n\n        [[1020 1021]\n         [1022 1023]]]]]]]]]]\n"
     ]
    }
   ],
   "source": [
    "print(np.arange(2**10).reshape(2, 2, 2, 2, 2, 2, 2, 2, 2, 2)) # 次元は省略されないらしい・・・それもそうか。"
   ]
  },
  {
   "source": [
    "以下の設定をすると全ての要素を表示するようになるらしいのですが、面倒なので未確認です。\n",
    "```python\n",
    "np.set_printoptions(threshold=sys.maxsize)       # sys module should be imported\n",
    "```\n"
   ],
   "cell_type": "markdown",
   "metadata": {}
  },
  {
   "source": [
    "## [Basic Operations](https://numpy.org/doc/stable/user/quickstart.html#basic-operations)"
   ],
   "cell_type": "markdown",
   "metadata": {}
  },
  {
   "source": [
    "演算は要素ごとに実行されます。"
   ],
   "cell_type": "markdown",
   "metadata": {}
  },
  {
   "cell_type": "code",
   "execution_count": 220,
   "metadata": {},
   "outputs": [
    {
     "output_type": "execute_result",
     "data": {
      "text/plain": [
       "array([0, 1, 2, 3])"
      ]
     },
     "metadata": {},
     "execution_count": 220
    }
   ],
   "source": [
    "a = np.array( [20,30,40,50] )\n",
    "b = np.arange( 4 )\n",
    "b"
   ]
  },
  {
   "cell_type": "code",
   "execution_count": 221,
   "metadata": {},
   "outputs": [
    {
     "output_type": "execute_result",
     "data": {
      "text/plain": [
       "array([20, 29, 38, 47])"
      ]
     },
     "metadata": {},
     "execution_count": 221
    }
   ],
   "source": [
    "c = a-b\n",
    "c"
   ]
  },
  {
   "cell_type": "code",
   "execution_count": 222,
   "metadata": {},
   "outputs": [
    {
     "output_type": "execute_result",
     "data": {
      "text/plain": [
       "array([0, 1, 4, 9])"
      ]
     },
     "metadata": {},
     "execution_count": 222
    }
   ],
   "source": [
    "b**2"
   ]
  },
  {
   "cell_type": "code",
   "execution_count": 223,
   "metadata": {},
   "outputs": [
    {
     "output_type": "execute_result",
     "data": {
      "text/plain": [
       "array([ 9.12945251, -9.88031624,  7.4511316 , -2.62374854])"
      ]
     },
     "metadata": {},
     "execution_count": 223
    }
   ],
   "source": [
    "10*np.sin(a)"
   ]
  },
  {
   "cell_type": "code",
   "execution_count": 224,
   "metadata": {},
   "outputs": [
    {
     "output_type": "execute_result",
     "data": {
      "text/plain": [
       "array([ True,  True, False, False])"
      ]
     },
     "metadata": {},
     "execution_count": 224
    }
   ],
   "source": [
    "a<35"
   ]
  },
  {
   "cell_type": "code",
   "execution_count": 227,
   "metadata": {},
   "outputs": [],
   "source": [
    "A = np.array( [[1,1],\n",
    "               [0,1]] )\n",
    "B = np.array( [[2,0],\n",
    "               [3,4]] )"
   ]
  },
  {
   "cell_type": "code",
   "execution_count": 228,
   "metadata": {},
   "outputs": [
    {
     "output_type": "execute_result",
     "data": {
      "text/plain": [
       "array([[2, 0],\n",
       "       [0, 4]])"
      ]
     },
     "metadata": {},
     "execution_count": 228
    }
   ],
   "source": [
    "A * B                       # elementwise product"
   ]
  },
  {
   "cell_type": "code",
   "execution_count": 229,
   "metadata": {},
   "outputs": [
    {
     "output_type": "execute_result",
     "data": {
      "text/plain": [
       "array([[5, 4],\n",
       "       [3, 4]])"
      ]
     },
     "metadata": {},
     "execution_count": 229
    }
   ],
   "source": [
    "A @ B                       # matrix product"
   ]
  },
  {
   "cell_type": "code",
   "execution_count": 230,
   "metadata": {},
   "outputs": [
    {
     "output_type": "execute_result",
     "data": {
      "text/plain": [
       "array([[5, 4],\n",
       "       [3, 4]])"
      ]
     },
     "metadata": {},
     "execution_count": 230
    }
   ],
   "source": [
    "A.dot(B)                    # another matrix product"
   ]
  },
  {
   "source": [
    "代入演算子も使えます。"
   ],
   "cell_type": "markdown",
   "metadata": {}
  },
  {
   "cell_type": "code",
   "execution_count": 232,
   "metadata": {},
   "outputs": [
    {
     "output_type": "execute_result",
     "data": {
      "text/plain": [
       "array([[3, 3, 3],\n",
       "       [3, 3, 3]])"
      ]
     },
     "metadata": {},
     "execution_count": 232
    }
   ],
   "source": [
    "rg = np.random.default_rng(1)     # create instance of default random number generator\n",
    "a = np.ones((2,3), dtype=int)\n",
    "b = rg.random((2,3))\n",
    "a *= 3\n",
    "a"
   ]
  },
  {
   "cell_type": "code",
   "execution_count": 233,
   "metadata": {},
   "outputs": [
    {
     "output_type": "execute_result",
     "data": {
      "text/plain": [
       "array([[0.51182162, 0.9504637 , 0.14415961],\n",
       "       [0.94864945, 0.31183145, 0.42332645]])"
      ]
     },
     "metadata": {},
     "execution_count": 233
    }
   ],
   "source": [
    "b"
   ]
  },
  {
   "cell_type": "code",
   "execution_count": 234,
   "metadata": {},
   "outputs": [],
   "source": [
    "b += a"
   ]
  },
  {
   "cell_type": "code",
   "execution_count": 235,
   "metadata": {},
   "outputs": [
    {
     "output_type": "execute_result",
     "data": {
      "text/plain": [
       "array([[3.51182162, 3.9504637 , 3.14415961],\n",
       "       [3.94864945, 3.31183145, 3.42332645]])"
      ]
     },
     "metadata": {},
     "execution_count": 235
    }
   ],
   "source": [
    "b"
   ]
  },
  {
   "source": [
    "型の変換は自動的に行われないことに注意しましょう。"
   ],
   "cell_type": "markdown",
   "metadata": {}
  },
  {
   "cell_type": "code",
   "execution_count": 236,
   "metadata": {},
   "outputs": [
    {
     "output_type": "error",
     "ename": "UFuncTypeError",
     "evalue": "Cannot cast ufunc 'add' output from dtype('float64') to dtype('int64') with casting rule 'same_kind'",
     "traceback": [
      "\u001b[0;31m---------------------------------------------------------------------------\u001b[0m",
      "\u001b[0;31mUFuncTypeError\u001b[0m                            Traceback (most recent call last)",
      "\u001b[0;32m<ipython-input-236-9ad166da7def>\u001b[0m in \u001b[0;36m<module>\u001b[0;34m\u001b[0m\n\u001b[0;32m----> 1\u001b[0;31m \u001b[0ma\u001b[0m \u001b[0;34m+=\u001b[0m \u001b[0mb\u001b[0m                            \u001b[0;31m# b is not automatically converted to integer type\u001b[0m\u001b[0;34m\u001b[0m\u001b[0;34m\u001b[0m\u001b[0m\n\u001b[0m",
      "\u001b[0;31mUFuncTypeError\u001b[0m: Cannot cast ufunc 'add' output from dtype('float64') to dtype('int64') with casting rule 'same_kind'"
     ]
    }
   ],
   "source": [
    "a += b                            # b is not automatically converted to integer type"
   ]
  },
  {
   "source": [],
   "cell_type": "markdown",
   "metadata": {}
  },
  {
   "source": [
    "異なるデータ型のarray同士の演算の結果、データ型はに[アップキャスティング](https://e-words.jp/w/%E3%82%AD%E3%83%A3%E3%82%B9%E3%83%88.html)により変化します。"
   ],
   "cell_type": "markdown",
   "metadata": {}
  },
  {
   "cell_type": "code",
   "execution_count": 238,
   "metadata": {},
   "outputs": [
    {
     "output_type": "execute_result",
     "data": {
      "text/plain": [
       "'float64'"
      ]
     },
     "metadata": {},
     "execution_count": 238
    }
   ],
   "source": [
    "a = np.ones(3, dtype=np.int32)\n",
    "b = np.linspace(0,pi,3)\n",
    "b.dtype.name"
   ]
  },
  {
   "cell_type": "code",
   "execution_count": 239,
   "metadata": {},
   "outputs": [
    {
     "output_type": "execute_result",
     "data": {
      "text/plain": [
       "array([1.        , 2.57079633, 4.14159265])"
      ]
     },
     "metadata": {},
     "execution_count": 239
    }
   ],
   "source": [
    "c = a+b\n",
    "c"
   ]
  },
  {
   "cell_type": "code",
   "execution_count": 240,
   "metadata": {},
   "outputs": [
    {
     "output_type": "execute_result",
     "data": {
      "text/plain": [
       "'float64'"
      ]
     },
     "metadata": {},
     "execution_count": 240
    }
   ],
   "source": [
    "c.dtype.name"
   ]
  },
  {
   "cell_type": "code",
   "execution_count": 241,
   "metadata": {},
   "outputs": [
    {
     "output_type": "execute_result",
     "data": {
      "text/plain": [
       "array([ 0.54030231+0.84147098j, -0.84147098+0.54030231j,\n",
       "       -0.54030231-0.84147098j])"
      ]
     },
     "metadata": {},
     "execution_count": 241
    }
   ],
   "source": [
    "d = np.exp(c*1j)\n",
    "d"
   ]
  },
  {
   "cell_type": "code",
   "execution_count": 242,
   "metadata": {},
   "outputs": [
    {
     "output_type": "execute_result",
     "data": {
      "text/plain": [
       "'complex128'"
      ]
     },
     "metadata": {},
     "execution_count": 242
    }
   ],
   "source": [
    "d.dtype.name"
   ]
  },
  {
   "cell_type": "code",
   "execution_count": 243,
   "metadata": {},
   "outputs": [
    {
     "output_type": "execute_result",
     "data": {
      "text/plain": [
       "array([[0.82770259, 0.40919914, 0.54959369],\n",
       "       [0.02755911, 0.75351311, 0.53814331]])"
      ]
     },
     "metadata": {},
     "execution_count": 243
    }
   ],
   "source": [
    "a = rg.random((2,3))\n",
    "a"
   ]
  },
  {
   "source": [
    "以下のようなメソッドも実装されています。"
   ],
   "cell_type": "markdown",
   "metadata": {}
  },
  {
   "cell_type": "code",
   "execution_count": 244,
   "metadata": {},
   "outputs": [
    {
     "output_type": "execute_result",
     "data": {
      "text/plain": [
       "3.1057109529998157"
      ]
     },
     "metadata": {},
     "execution_count": 244
    }
   ],
   "source": [
    "a.sum()"
   ]
  },
  {
   "cell_type": "code",
   "execution_count": 245,
   "metadata": {},
   "outputs": [
    {
     "output_type": "execute_result",
     "data": {
      "text/plain": [
       "0.027559113243068367"
      ]
     },
     "metadata": {},
     "execution_count": 245
    }
   ],
   "source": [
    "a.min()"
   ]
  },
  {
   "cell_type": "code",
   "execution_count": 246,
   "metadata": {},
   "outputs": [
    {
     "output_type": "execute_result",
     "data": {
      "text/plain": [
       "0.8277025938204418"
      ]
     },
     "metadata": {},
     "execution_count": 246
    }
   ],
   "source": [
    "a.max()"
   ]
  },
  {
   "cell_type": "code",
   "execution_count": 247,
   "metadata": {},
   "outputs": [
    {
     "output_type": "execute_result",
     "data": {
      "text/plain": [
       "array([[ 0,  1,  2,  3],\n",
       "       [ 4,  5,  6,  7],\n",
       "       [ 8,  9, 10, 11]])"
      ]
     },
     "metadata": {},
     "execution_count": 247
    }
   ],
   "source": [
    "b = np.arange(12).reshape(3,4)\n",
    "b"
   ]
  },
  {
   "cell_type": "code",
   "execution_count": 248,
   "metadata": {},
   "outputs": [
    {
     "output_type": "execute_result",
     "data": {
      "text/plain": [
       "array([12, 15, 18, 21])"
      ]
     },
     "metadata": {},
     "execution_count": 248
    }
   ],
   "source": [
    "b.sum(axis=0)                            # sum of each column"
   ]
  },
  {
   "cell_type": "code",
   "execution_count": 249,
   "metadata": {},
   "outputs": [
    {
     "output_type": "execute_result",
     "data": {
      "text/plain": [
       "array([0, 4, 8])"
      ]
     },
     "metadata": {},
     "execution_count": 249
    }
   ],
   "source": [
    "b.min(axis=1)                            # min of each row"
   ]
  },
  {
   "cell_type": "code",
   "execution_count": 250,
   "metadata": {},
   "outputs": [
    {
     "output_type": "execute_result",
     "data": {
      "text/plain": [
       "array([[ 0,  1,  3,  6],\n",
       "       [ 4,  9, 15, 22],\n",
       "       [ 8, 17, 27, 38]])"
      ]
     },
     "metadata": {},
     "execution_count": 250
    }
   ],
   "source": [
    "b.cumsum(axis=1)                         # cumulative sum along each row"
   ]
  },
  {
   "source": [
    "## [Universal Functions](https://numpy.org/doc/stable/user/quickstart.html#universal-functions)"
   ],
   "cell_type": "markdown",
   "metadata": {}
  },
  {
   "cell_type": "code",
   "execution_count": 251,
   "metadata": {},
   "outputs": [
    {
     "output_type": "execute_result",
     "data": {
      "text/plain": [
       "array([0, 1, 2])"
      ]
     },
     "metadata": {},
     "execution_count": 251
    }
   ],
   "source": [
    "B = np.arange(3)\n",
    "B"
   ]
  },
  {
   "cell_type": "code",
   "execution_count": 252,
   "metadata": {},
   "outputs": [
    {
     "output_type": "execute_result",
     "data": {
      "text/plain": [
       "array([1.        , 2.71828183, 7.3890561 ])"
      ]
     },
     "metadata": {},
     "execution_count": 252
    }
   ],
   "source": [
    "np.exp(B)"
   ]
  },
  {
   "cell_type": "code",
   "execution_count": 253,
   "metadata": {},
   "outputs": [
    {
     "output_type": "execute_result",
     "data": {
      "text/plain": [
       "array([0.        , 1.        , 1.41421356])"
      ]
     },
     "metadata": {},
     "execution_count": 253
    }
   ],
   "source": [
    "np.sqrt(B)"
   ]
  },
  {
   "cell_type": "code",
   "execution_count": 255,
   "metadata": {},
   "outputs": [],
   "source": [
    "C = np.array([2., -1., 4.])"
   ]
  },
  {
   "cell_type": "code",
   "execution_count": 256,
   "metadata": {},
   "outputs": [
    {
     "output_type": "execute_result",
     "data": {
      "text/plain": [
       "array([2., 0., 6.])"
      ]
     },
     "metadata": {},
     "execution_count": 256
    }
   ],
   "source": [
    "np.add(B, C)"
   ]
  },
  {
   "source": [
    "ufancはここを参照してください。\n",
    "\n",
    "[Universal functions (ufunc)](https://numpy.org/doc/stable/reference/ufuncs.html)"
   ],
   "cell_type": "markdown",
   "metadata": {}
  },
  {
   "source": [
    "## [Indexing, Slicing and Iterating](https://numpy.org/doc/stable/user/quickstart.html#the-basics)"
   ],
   "cell_type": "markdown",
   "metadata": {}
  },
  {
   "cell_type": "code",
   "execution_count": 257,
   "metadata": {},
   "outputs": [
    {
     "output_type": "execute_result",
     "data": {
      "text/plain": [
       "array([  0,   1,   8,  27,  64, 125, 216, 343, 512, 729])"
      ]
     },
     "metadata": {},
     "execution_count": 257
    }
   ],
   "source": [
    "a = np.arange(10)**3\n",
    "a"
   ]
  },
  {
   "cell_type": "code",
   "execution_count": 258,
   "metadata": {},
   "outputs": [
    {
     "output_type": "execute_result",
     "data": {
      "text/plain": [
       "8"
      ]
     },
     "metadata": {},
     "execution_count": 258
    }
   ],
   "source": [
    "a[2]"
   ]
  },
  {
   "cell_type": "code",
   "execution_count": 259,
   "metadata": {},
   "outputs": [
    {
     "output_type": "execute_result",
     "data": {
      "text/plain": [
       "array([ 8, 27, 64])"
      ]
     },
     "metadata": {},
     "execution_count": 259
    }
   ],
   "source": [
    "a[2:5]"
   ]
  },
  {
   "cell_type": "code",
   "execution_count": 260,
   "metadata": {},
   "outputs": [
    {
     "output_type": "execute_result",
     "data": {
      "text/plain": [
       "array([1000,    1, 1000,   27, 1000,  125,  216,  343,  512,  729])"
      ]
     },
     "metadata": {},
     "execution_count": 260
    }
   ],
   "source": [
    "a[:6:2] = 1000\n",
    "a"
   ]
  },
  {
   "cell_type": "code",
   "execution_count": 261,
   "metadata": {},
   "outputs": [
    {
     "output_type": "execute_result",
     "data": {
      "text/plain": [
       "array([ 729,  512,  343,  216,  125, 1000,   27, 1000,    1, 1000])"
      ]
     },
     "metadata": {},
     "execution_count": 261
    }
   ],
   "source": [
    "a[ : :-1]"
   ]
  },
  {
   "cell_type": "code",
   "execution_count": 262,
   "metadata": {},
   "outputs": [
    {
     "output_type": "stream",
     "name": "stdout",
     "text": [
      "9.999999999999998\n1.0\n9.999999999999998\n3.0\n9.999999999999998\n4.999999999999999\n5.999999999999999\n6.999999999999999\n7.999999999999999\n8.999999999999998\n"
     ]
    }
   ],
   "source": [
    "for i in a:\n",
    "    print(i**(1/3.))"
   ]
  },
  {
   "source": [
    "多次元のarrayのインデックスはカンマで区切って与えらられます。"
   ],
   "cell_type": "markdown",
   "metadata": {}
  },
  {
   "cell_type": "code",
   "execution_count": 263,
   "metadata": {},
   "outputs": [],
   "source": [
    "def f(x,y):\n",
    "    return 10*x+y"
   ]
  },
  {
   "cell_type": "code",
   "execution_count": 264,
   "metadata": {},
   "outputs": [],
   "source": [
    "b = np.fromfunction(f,(5,4),dtype=int)"
   ]
  },
  {
   "cell_type": "code",
   "execution_count": 265,
   "metadata": {},
   "outputs": [
    {
     "output_type": "execute_result",
     "data": {
      "text/plain": [
       "23"
      ]
     },
     "metadata": {},
     "execution_count": 265
    }
   ],
   "source": [
    "b[2,3]"
   ]
  },
  {
   "cell_type": "code",
   "execution_count": 266,
   "metadata": {},
   "outputs": [
    {
     "output_type": "execute_result",
     "data": {
      "text/plain": [
       "array([ 1, 11, 21, 31, 41])"
      ]
     },
     "metadata": {},
     "execution_count": 266
    }
   ],
   "source": [
    "b[0:5, 1]                       # each row in the second column of b"
   ]
  },
  {
   "cell_type": "code",
   "execution_count": 267,
   "metadata": {},
   "outputs": [
    {
     "output_type": "execute_result",
     "data": {
      "text/plain": [
       "array([ 1, 11, 21, 31, 41])"
      ]
     },
     "metadata": {},
     "execution_count": 267
    }
   ],
   "source": [
    "b[ : ,1]                        # equivalent to the previous example"
   ]
  },
  {
   "cell_type": "code",
   "execution_count": 268,
   "metadata": {},
   "outputs": [
    {
     "output_type": "execute_result",
     "data": {
      "text/plain": [
       "array([[10, 11, 12, 13],\n",
       "       [20, 21, 22, 23]])"
      ]
     },
     "metadata": {},
     "execution_count": 268
    }
   ],
   "source": [
    "b[1:3, : ]                      # each column in the second and third row of b"
   ]
  },
  {
   "source": [
    "指定したインデックスが次元よりも少ない場合は自動的にcomplete slices (:のこと) に変換されます。"
   ],
   "cell_type": "markdown",
   "metadata": {}
  },
  {
   "cell_type": "code",
   "execution_count": 270,
   "metadata": {},
   "outputs": [
    {
     "output_type": "execute_result",
     "data": {
      "text/plain": [
       "array([40, 41, 42, 43])"
      ]
     },
     "metadata": {},
     "execution_count": 270
    }
   ],
   "source": [
    "b[-1]                             # the last row. Equivalent to b[-1,:]"
   ]
  },
  {
   "source": [
    "`...`を使うことで:を省略することができます。"
   ],
   "cell_type": "markdown",
   "metadata": {}
  },
  {
   "source": [
    "- `x[1,2,...]` is equivalent to `x[1,2,:,:,:]`,\n",
    "- `x[...,3]` to `x[:,:,:,:,3]` and\n",
    "- `x[4,...,5,:]` to `x[4,:,:,5,:]`."
   ],
   "cell_type": "markdown",
   "metadata": {}
  },
  {
   "cell_type": "code",
   "execution_count": 271,
   "metadata": {},
   "outputs": [],
   "source": [
    "c = np.array( [[[  0,  1,  2],   # a 3D array (two stacked 2D arrays)\n",
    "                [ 10, 12, 13]],\n",
    "               [[100,101,102],\n",
    "                [110,112,113]]])"
   ]
  },
  {
   "cell_type": "code",
   "execution_count": 272,
   "metadata": {},
   "outputs": [
    {
     "output_type": "execute_result",
     "data": {
      "text/plain": [
       "(2, 2, 3)"
      ]
     },
     "metadata": {},
     "execution_count": 272
    }
   ],
   "source": [
    "c.shape"
   ]
  },
  {
   "cell_type": "code",
   "execution_count": 273,
   "metadata": {},
   "outputs": [
    {
     "output_type": "execute_result",
     "data": {
      "text/plain": [
       "array([[100, 101, 102],\n",
       "       [110, 112, 113]])"
      ]
     },
     "metadata": {},
     "execution_count": 273
    }
   ],
   "source": [
    "c[1,...]                                   # same as c[1,:,:] or c[1]"
   ]
  },
  {
   "cell_type": "code",
   "execution_count": 274,
   "metadata": {},
   "outputs": [
    {
     "output_type": "execute_result",
     "data": {
      "text/plain": [
       "array([[  2,  13],\n",
       "       [102, 113]])"
      ]
     },
     "metadata": {},
     "execution_count": 274
    }
   ],
   "source": [
    "c[...,2]                                   # same as c[:,:,2]"
   ]
  },
  {
   "source": [
    "イテレートは第一次元について実行されます。"
   ],
   "cell_type": "markdown",
   "metadata": {}
  },
  {
   "cell_type": "code",
   "execution_count": 275,
   "metadata": {},
   "outputs": [
    {
     "output_type": "stream",
     "name": "stdout",
     "text": [
      "[0 1 2 3]\n[10 11 12 13]\n[20 21 22 23]\n[30 31 32 33]\n[40 41 42 43]\n"
     ]
    }
   ],
   "source": [
    "for row in b:\n",
    "    print(row)"
   ]
  },
  {
   "cell_type": "code",
   "execution_count": 276,
   "metadata": {},
   "outputs": [
    {
     "output_type": "stream",
     "name": "stdout",
     "text": [
      "0\n1\n2\n3\n10\n11\n12\n13\n20\n21\n22\n23\n30\n31\n32\n33\n40\n41\n42\n43\n"
     ]
    }
   ],
   "source": [
    "for element in b.flat:\n",
    "    print(element)"
   ]
  },
  {
   "source": [
    "See also\n",
    "\n",
    "[Indexing](https://numpy.org/doc/stable/user/basics.indexing.html#basics-indexing), [Indexing (reference)](https://numpy.org/doc/stable/reference/arrays.indexing.html#arrays-indexing), [newaxis](https://numpy.org/doc/stable/reference/constants.html#numpy.newaxis), [ndenumerate](https://numpy.org/doc/stable/reference/generated/numpy.ndenumerate.html#numpy.ndenumerate), [indices](https://numpy.org/doc/stable/reference/generated/numpy.indices.html#numpy.indices)"
   ],
   "cell_type": "markdown",
   "metadata": {}
  },
  {
   "source": [
    "# [Shape Manipulation](https://numpy.org/doc/stable/user/quickstart.html#shape-manipulation)"
   ],
   "cell_type": "markdown",
   "metadata": {}
  },
  {
   "source": [
    "## [Changing the shape of an array](https://numpy.org/doc/stable/user/quickstart.html#changing-the-shape-of-an-array)"
   ],
   "cell_type": "markdown",
   "metadata": {}
  },
  {
   "cell_type": "code",
   "execution_count": 293,
   "metadata": {},
   "outputs": [
    {
     "output_type": "execute_result",
     "data": {
      "text/plain": [
       "array([[9., 7., 5., 2.],\n",
       "       [1., 9., 5., 1.],\n",
       "       [6., 7., 6., 9.]])"
      ]
     },
     "metadata": {},
     "execution_count": 293
    }
   ],
   "source": [
    "a = np.floor(10*rg.random((3,4)))\n",
    "a"
   ]
  },
  {
   "cell_type": "code",
   "execution_count": 294,
   "metadata": {},
   "outputs": [
    {
     "output_type": "execute_result",
     "data": {
      "text/plain": [
       "(3, 4)"
      ]
     },
     "metadata": {},
     "execution_count": 294
    }
   ],
   "source": [
    "a.shape"
   ]
  },
  {
   "source": [
    "以下のコマンドはオリジナルのarrayは変更しません。"
   ],
   "cell_type": "markdown",
   "metadata": {}
  },
  {
   "cell_type": "code",
   "execution_count": 295,
   "metadata": {},
   "outputs": [
    {
     "output_type": "execute_result",
     "data": {
      "text/plain": [
       "array([9., 7., 5., 2., 1., 9., 5., 1., 6., 7., 6., 9.])"
      ]
     },
     "metadata": {},
     "execution_count": 295
    }
   ],
   "source": [
    "a.ravel()  # returns the array, flattened"
   ]
  },
  {
   "source": [
    "以下のように、`order`を指定すれば展開の向きを指定できます。\n",
    "デフォルトの`'C'`は一番次元の高い添字が先に走ります。(上の例)\n",
    "`'F'`を指定すれば一番次元の低い添字が先に走ります。(下の例)\n",
    "\n",
    "より詳しくは[numpy.ravel](https://numpy.org/doc/stable/reference/generated/numpy.ravel.html#numpy.ravel)を参照してください。"
   ],
   "cell_type": "markdown",
   "metadata": {}
  },
  {
   "cell_type": "code",
   "execution_count": 298,
   "metadata": {},
   "outputs": [
    {
     "output_type": "execute_result",
     "data": {
      "text/plain": [
       "array([9., 1., 6., 7., 9., 7., 5., 5., 6., 2., 1., 9.])"
      ]
     },
     "metadata": {},
     "execution_count": 298
    }
   ],
   "source": [
    "np.ravel(a, order='F')"
   ]
  },
  {
   "cell_type": "code",
   "execution_count": 282,
   "metadata": {},
   "outputs": [
    {
     "output_type": "execute_result",
     "data": {
      "text/plain": [
       "array([[3., 7.],\n",
       "       [3., 4.],\n",
       "       [1., 4.],\n",
       "       [2., 2.],\n",
       "       [7., 2.],\n",
       "       [4., 9.]])"
      ]
     },
     "metadata": {},
     "execution_count": 282
    }
   ],
   "source": [
    "a.reshape(6,2)  # returns the array with a modified shape"
   ]
  },
  {
   "cell_type": "code",
   "execution_count": 283,
   "metadata": {},
   "outputs": [
    {
     "output_type": "execute_result",
     "data": {
      "text/plain": [
       "array([[3., 1., 7.],\n",
       "       [7., 4., 2.],\n",
       "       [3., 2., 4.],\n",
       "       [4., 2., 9.]])"
      ]
     },
     "metadata": {},
     "execution_count": 283
    }
   ],
   "source": [
    "a.T  # returns the array, transposed"
   ]
  },
  {
   "cell_type": "code",
   "execution_count": 284,
   "metadata": {},
   "outputs": [
    {
     "output_type": "execute_result",
     "data": {
      "text/plain": [
       "(4, 3)"
      ]
     },
     "metadata": {},
     "execution_count": 284
    }
   ],
   "source": [
    "a.T.shape"
   ]
  },
  {
   "cell_type": "code",
   "execution_count": 286,
   "metadata": {},
   "outputs": [
    {
     "output_type": "execute_result",
     "data": {
      "text/plain": [
       "(3, 4)"
      ]
     },
     "metadata": {},
     "execution_count": 286
    }
   ],
   "source": [
    "a.shape #aは元のまま"
   ]
  },
  {
   "source": [
    "`ndarray.resize`メソッドはarray自身を更新します。"
   ],
   "cell_type": "markdown",
   "metadata": {}
  },
  {
   "cell_type": "code",
   "execution_count": 287,
   "metadata": {},
   "outputs": [
    {
     "output_type": "execute_result",
     "data": {
      "text/plain": [
       "array([[3., 7., 3., 4.],\n",
       "       [1., 4., 2., 2.],\n",
       "       [7., 2., 4., 9.]])"
      ]
     },
     "metadata": {},
     "execution_count": 287
    }
   ],
   "source": [
    "a"
   ]
  },
  {
   "cell_type": "code",
   "execution_count": 288,
   "metadata": {},
   "outputs": [],
   "source": [
    "a.resize((2, 6))"
   ]
  },
  {
   "cell_type": "code",
   "execution_count": 289,
   "metadata": {},
   "outputs": [
    {
     "output_type": "execute_result",
     "data": {
      "text/plain": [
       "array([[3., 7., 3., 4., 1., 4.],\n",
       "       [2., 2., 7., 2., 4., 9.]])"
      ]
     },
     "metadata": {},
     "execution_count": 289
    }
   ],
   "source": [
    "a"
   ]
  },
  {
   "cell_type": "code",
   "execution_count": 300,
   "metadata": {},
   "outputs": [
    {
     "output_type": "execute_result",
     "data": {
      "text/plain": [
       "array([[9., 7., 5., 2.],\n",
       "       [1., 9., 5., 1.],\n",
       "       [6., 7., 6., 9.]])"
      ]
     },
     "metadata": {},
     "execution_count": 300
    }
   ],
   "source": [
    "a.reshape(3,-1) # -1を指定すると良い感じに実行してくれるそうです"
   ]
  },
  {
   "source": [
    "## [Stacking together different arrays](https://numpy.org/doc/stable/user/quickstart.html#stacking-together-different-arrays)"
   ],
   "cell_type": "markdown",
   "metadata": {}
  },
  {
   "cell_type": "code",
   "execution_count": 319,
   "metadata": {},
   "outputs": [
    {
     "output_type": "execute_result",
     "data": {
      "text/plain": [
       "array([[1., 8.],\n",
       "       [6., 7.]])"
      ]
     },
     "metadata": {},
     "execution_count": 319
    }
   ],
   "source": [
    "a = np.floor(10*rg.random((2,2)))\n",
    "a"
   ]
  },
  {
   "cell_type": "code",
   "execution_count": 320,
   "metadata": {},
   "outputs": [
    {
     "output_type": "execute_result",
     "data": {
      "text/plain": [
       "array([[1., 8.],\n",
       "       [1., 0.]])"
      ]
     },
     "metadata": {},
     "execution_count": 320
    }
   ],
   "source": [
    "b = np.floor(10*rg.random((2,2)))\n",
    "b"
   ]
  },
  {
   "cell_type": "code",
   "execution_count": 321,
   "metadata": {},
   "outputs": [
    {
     "output_type": "execute_result",
     "data": {
      "text/plain": [
       "array([[1., 8.],\n",
       "       [6., 7.],\n",
       "       [1., 8.],\n",
       "       [1., 0.]])"
      ]
     },
     "metadata": {},
     "execution_count": 321
    }
   ],
   "source": [
    "np.vstack((a,b))"
   ]
  },
  {
   "cell_type": "code",
   "execution_count": 322,
   "metadata": {},
   "outputs": [
    {
     "output_type": "execute_result",
     "data": {
      "text/plain": [
       "array([[1., 8., 1., 8.],\n",
       "       [6., 7., 1., 0.]])"
      ]
     },
     "metadata": {},
     "execution_count": 322
    }
   ],
   "source": [
    "np.hstack((a,b))"
   ]
  },
  {
   "source": [
    "hstackは2D arrayに対してはcolumn_stackと等しくなります。"
   ],
   "cell_type": "markdown",
   "metadata": {}
  },
  {
   "cell_type": "code",
   "execution_count": 323,
   "metadata": {},
   "outputs": [],
   "source": [
    "from numpy import newaxis"
   ]
  },
  {
   "cell_type": "code",
   "execution_count": 324,
   "metadata": {},
   "outputs": [
    {
     "output_type": "execute_result",
     "data": {
      "text/plain": [
       "array([[1., 8., 1., 8.],\n",
       "       [6., 7., 1., 0.]])"
      ]
     },
     "metadata": {},
     "execution_count": 324
    }
   ],
   "source": [
    "np.column_stack((a,b)) # with 2D arrays"
   ]
  },
  {
   "cell_type": "code",
   "execution_count": 325,
   "metadata": {},
   "outputs": [],
   "source": [
    "a = np.array([4.,2.])"
   ]
  },
  {
   "cell_type": "code",
   "execution_count": 326,
   "metadata": {},
   "outputs": [],
   "source": [
    "b = np.array([3.,8.])"
   ]
  },
  {
   "cell_type": "code",
   "execution_count": 327,
   "metadata": {},
   "outputs": [
    {
     "output_type": "execute_result",
     "data": {
      "text/plain": [
       "array([[4., 3.],\n",
       "       [2., 8.]])"
      ]
     },
     "metadata": {},
     "execution_count": 327
    }
   ],
   "source": [
    "np.column_stack((a,b)) # returns a 2D array"
   ]
  },
  {
   "cell_type": "code",
   "execution_count": 328,
   "metadata": {},
   "outputs": [
    {
     "output_type": "execute_result",
     "data": {
      "text/plain": [
       "array([4., 2., 3., 8.])"
      ]
     },
     "metadata": {},
     "execution_count": 328
    }
   ],
   "source": [
    "np.hstack((a,b)) # the result is different"
   ]
  },
  {
   "cell_type": "code",
   "execution_count": 329,
   "metadata": {},
   "outputs": [
    {
     "output_type": "execute_result",
     "data": {
      "text/plain": [
       "array([[4.],\n",
       "       [2.]])"
      ]
     },
     "metadata": {},
     "execution_count": 329
    }
   ],
   "source": [
    "a[:,newaxis]               # view `a` as a 2D column vector"
   ]
  },
  {
   "cell_type": "code",
   "execution_count": 330,
   "metadata": {},
   "outputs": [
    {
     "output_type": "execute_result",
     "data": {
      "text/plain": [
       "array([[4., 3.],\n",
       "       [2., 8.]])"
      ]
     },
     "metadata": {},
     "execution_count": 330
    }
   ],
   "source": [
    "np.column_stack((a[:,newaxis],b[:,newaxis]))"
   ]
  },
  {
   "cell_type": "code",
   "execution_count": 331,
   "metadata": {},
   "outputs": [
    {
     "output_type": "execute_result",
     "data": {
      "text/plain": [
       "array([[4., 3.],\n",
       "       [2., 8.]])"
      ]
     },
     "metadata": {},
     "execution_count": 331
    }
   ],
   "source": [
    "np.hstack((a[:,newaxis],b[:,newaxis]))   # the result is the same"
   ]
  },
  {
   "source": [
    "[`numpy.column_stack`](https://numpy.org/doc/stable/reference/generated/numpy.column_stack.html#numpy.column_stack)は高次元のarrayに対して実行すると以下のようになるようです。ここら辺はおいおい。"
   ],
   "cell_type": "markdown",
   "metadata": {}
  },
  {
   "cell_type": "code",
   "execution_count": 358,
   "metadata": {},
   "outputs": [
    {
     "output_type": "execute_result",
     "data": {
      "text/plain": [
       "array([[[5., 6., 3., 4., 3.],\n",
       "        [3., 4., 3., 5., 7.],\n",
       "        [3., 0., 1., 8., 8.],\n",
       "        [4., 1., 7., 6., 6.],\n",
       "        [1., 8., 7., 8., 7.],\n",
       "        [0., 6., 1., 3., 1.],\n",
       "        [6., 7., 2., 2., 3.],\n",
       "        [6., 7., 2., 1., 2.]],\n",
       "\n",
       "       [[6., 4., 7., 9., 9.],\n",
       "        [1., 0., 1., 2., 9.],\n",
       "        [3., 5., 9., 5., 3.],\n",
       "        [8., 4., 1., 7., 7.],\n",
       "        [3., 9., 6., 2., 8.],\n",
       "        [7., 6., 6., 6., 0.],\n",
       "        [4., 3., 0., 6., 9.],\n",
       "        [7., 6., 8., 1., 4.]],\n",
       "\n",
       "       [[4., 5., 7., 8., 3.],\n",
       "        [9., 9., 7., 2., 0.],\n",
       "        [3., 6., 0., 7., 5.],\n",
       "        [7., 5., 3., 8., 1.],\n",
       "        [0., 2., 2., 0., 2.],\n",
       "        [0., 2., 7., 9., 9.],\n",
       "        [5., 8., 4., 5., 9.],\n",
       "        [2., 1., 4., 8., 4.]]])"
      ]
     },
     "metadata": {},
     "execution_count": 358
    }
   ],
   "source": [
    "np.column_stack(np.floor(10*rg.random((2, 3, 4, 5)), np.floor(10*rg.random((2, 3, 4, 5)))))"
   ]
  },
  {
   "source": [
    "一方、`row_stack`は`vstack`のエイリアスになっているようです。"
   ],
   "cell_type": "markdown",
   "metadata": {}
  },
  {
   "cell_type": "code",
   "execution_count": 359,
   "metadata": {},
   "outputs": [
    {
     "output_type": "execute_result",
     "data": {
      "text/plain": [
       "False"
      ]
     },
     "metadata": {},
     "execution_count": 359
    }
   ],
   "source": [
    "np.column_stack is np.hstack"
   ]
  },
  {
   "cell_type": "code",
   "execution_count": 360,
   "metadata": {},
   "outputs": [
    {
     "output_type": "execute_result",
     "data": {
      "text/plain": [
       "True"
      ]
     },
     "metadata": {},
     "execution_count": 360
    }
   ],
   "source": [
    "np.row_stack is np.vstack"
   ]
  },
  {
   "cell_type": "code",
   "execution_count": 369,
   "metadata": {},
   "outputs": [
    {
     "output_type": "execute_result",
     "data": {
      "text/plain": [
       "array([[[[7., 8., 6., 3., 5.],\n",
       "         [9., 7., 5., 2., 8.],\n",
       "         [5., 2., 3., 3., 5.],\n",
       "         [0., 2., 0., 9., 4.]],\n",
       "\n",
       "        [[4., 7., 6., 5., 5.],\n",
       "         [2., 6., 3., 8., 3.],\n",
       "         [5., 0., 0., 6., 0.],\n",
       "         [9., 2., 5., 3., 0.]],\n",
       "\n",
       "        [[8., 6., 0., 3., 7.],\n",
       "         [5., 5., 1., 0., 9.],\n",
       "         [3., 2., 3., 6., 4.],\n",
       "         [4., 3., 2., 6., 2.]],\n",
       "\n",
       "        [[6., 1., 2., 9., 8.],\n",
       "         [6., 8., 3., 9., 0.],\n",
       "         [1., 0., 1., 8., 8.],\n",
       "         [6., 6., 7., 6., 9.]],\n",
       "\n",
       "        [[8., 1., 6., 7., 7.],\n",
       "         [8., 7., 8., 6., 4.],\n",
       "         [3., 8., 0., 4., 1.],\n",
       "         [0., 2., 4., 8., 6.]],\n",
       "\n",
       "        [[1., 9., 1., 6., 5.],\n",
       "         [2., 9., 5., 5., 7.],\n",
       "         [0., 2., 5., 3., 2.],\n",
       "         [5., 3., 7., 6., 6.]]],\n",
       "\n",
       "\n",
       "       [[[5., 6., 4., 8., 9.],\n",
       "         [4., 4., 9., 4., 5.],\n",
       "         [7., 1., 7., 7., 3.],\n",
       "         [6., 7., 3., 6., 2.]],\n",
       "\n",
       "        [[6., 1., 5., 2., 1.],\n",
       "         [9., 0., 5., 5., 7.],\n",
       "         [2., 9., 9., 5., 6.],\n",
       "         [3., 2., 5., 2., 5.]],\n",
       "\n",
       "        [[4., 3., 0., 5., 9.],\n",
       "         [8., 1., 2., 4., 6.],\n",
       "         [4., 6., 0., 5., 6.],\n",
       "         [9., 2., 0., 5., 5.]],\n",
       "\n",
       "        [[0., 3., 0., 6., 0.],\n",
       "         [9., 1., 7., 7., 4.],\n",
       "         [3., 7., 6., 0., 4.],\n",
       "         [2., 2., 7., 5., 8.]],\n",
       "\n",
       "        [[4., 4., 4., 5., 0.],\n",
       "         [0., 1., 5., 8., 3.],\n",
       "         [4., 2., 6., 0., 1.],\n",
       "         [8., 3., 9., 6., 2.]],\n",
       "\n",
       "        [[6., 9., 0., 9., 7.],\n",
       "         [9., 7., 9., 1., 7.],\n",
       "         [0., 4., 9., 8., 6.],\n",
       "         [4., 8., 4., 0., 2.]]]])"
      ]
     },
     "metadata": {},
     "execution_count": 369
    }
   ],
   "source": [
    "np.hstack((np.floor(10*rg.random((2, 3, 4, 5))), np.floor(10*rg.random((2, 3, 4, 5)))))"
   ]
  },
  {
   "cell_type": "code",
   "execution_count": 367,
   "metadata": {},
   "outputs": [
    {
     "output_type": "execute_result",
     "data": {
      "text/plain": [
       "array([[[[7., 0., 3., 0., 5.],\n",
       "         [6., 9., 2., 5., 9.],\n",
       "         [6., 8., 9., 0., 6.],\n",
       "         [5., 5., 6., 1., 6.]],\n",
       "\n",
       "        [[1., 4., 5., 8., 1.],\n",
       "         [9., 8., 0., 8., 5.],\n",
       "         [9., 4., 0., 7., 4.],\n",
       "         [1., 1., 6., 7., 1.]],\n",
       "\n",
       "        [[0., 2., 1., 3., 5.],\n",
       "         [2., 8., 9., 3., 1.],\n",
       "         [8., 2., 7., 8., 0.],\n",
       "         [0., 2., 0., 1., 9.]]],\n",
       "\n",
       "\n",
       "       [[[5., 0., 0., 8., 3.],\n",
       "         [2., 4., 6., 2., 0.],\n",
       "         [1., 9., 3., 4., 2.],\n",
       "         [1., 7., 2., 0., 3.]],\n",
       "\n",
       "        [[1., 2., 5., 1., 5.],\n",
       "         [5., 4., 2., 7., 8.],\n",
       "         [3., 0., 9., 8., 8.],\n",
       "         [6., 0., 4., 0., 1.]],\n",
       "\n",
       "        [[0., 4., 4., 1., 8.],\n",
       "         [3., 8., 3., 9., 0.],\n",
       "         [5., 9., 7., 6., 9.],\n",
       "         [1., 1., 2., 8., 2.]]],\n",
       "\n",
       "\n",
       "       [[[7., 6., 5., 0., 1.],\n",
       "         [9., 0., 2., 0., 3.],\n",
       "         [1., 4., 9., 6., 9.],\n",
       "         [1., 5., 8., 6., 5.]],\n",
       "\n",
       "        [[1., 3., 9., 4., 0.],\n",
       "         [6., 0., 1., 2., 0.],\n",
       "         [1., 1., 4., 2., 9.],\n",
       "         [4., 4., 7., 3., 8.]],\n",
       "\n",
       "        [[4., 2., 2., 7., 9.],\n",
       "         [5., 8., 3., 2., 6.],\n",
       "         [2., 0., 4., 0., 3.],\n",
       "         [6., 2., 0., 5., 8.]]],\n",
       "\n",
       "\n",
       "       [[[7., 7., 7., 2., 8.],\n",
       "         [4., 9., 2., 0., 4.],\n",
       "         [5., 9., 5., 5., 5.],\n",
       "         [0., 9., 3., 3., 7.]],\n",
       "\n",
       "        [[8., 1., 1., 6., 7.],\n",
       "         [1., 1., 5., 6., 1.],\n",
       "         [8., 3., 3., 2., 7.],\n",
       "         [5., 7., 6., 0., 6.]],\n",
       "\n",
       "        [[1., 1., 5., 5., 3.],\n",
       "         [6., 2., 0., 3., 3.],\n",
       "         [5., 2., 7., 9., 0.],\n",
       "         [9., 2., 3., 6., 2.]]]])"
      ]
     },
     "metadata": {},
     "execution_count": 367
    }
   ],
   "source": [
    "np.vstack((np.floor(10*rg.random((2, 3, 4, 5))), np.floor(10*rg.random((2, 3, 4, 5)))))"
   ]
  },
  {
   "source": [
    "`concatenate`関数で、任意の次元に対してstackすることができます。"
   ],
   "cell_type": "markdown",
   "metadata": {}
  },
  {
   "cell_type": "code",
   "execution_count": 380,
   "metadata": {},
   "outputs": [
    {
     "output_type": "stream",
     "name": "stdout",
     "text": [
      "(4, 3, 4, 5)\n(2, 6, 4, 5)\n(2, 3, 8, 5)\n(2, 3, 4, 10)\n"
     ]
    }
   ],
   "source": [
    "for i in range(4):\n",
    "    print(np.concatenate((np.floor(10*rg.random((2, 3, 4, 5))), np.floor(10*rg.random((2, 3, 4, 5)))), i).shape)"
   ]
  },
  {
   "cell_type": "code",
   "execution_count": 382,
   "metadata": {},
   "outputs": [
    {
     "output_type": "execute_result",
     "data": {
      "text/plain": [
       "array([1, 2, 3, 0, 4])"
      ]
     },
     "metadata": {},
     "execution_count": 382
    }
   ],
   "source": [
    "np.r_[1:4,0,4]"
   ]
  },
  {
   "cell_type": "code",
   "execution_count": 383,
   "metadata": {},
   "outputs": [
    {
     "output_type": "execute_result",
     "data": {
      "text/plain": [
       "array([1, 2, 3, 0, 0, 4, 5, 6])"
      ]
     },
     "metadata": {},
     "execution_count": 383
    }
   ],
   "source": [
    "np.r_[np.array([1,2,3]), 0, 0, np.array([4,5,6])]"
   ]
  },
  {
   "cell_type": "code",
   "execution_count": 384,
   "metadata": {},
   "outputs": [
    {
     "output_type": "execute_result",
     "data": {
      "text/plain": [
       "array([[1, 2, 3, 0, 0, 4, 5, 6]])"
      ]
     },
     "metadata": {},
     "execution_count": 384
    }
   ],
   "source": [
    "np.c_[np.array([[1,2,3]]), 0, 0, np.array([[4,5,6]])]"
   ]
  },
  {
   "source": [
    "## [Splitting one array into several smaller ones](https://numpy.org/doc/stable/user/quickstart.html#splitting-one-array-into-several-smaller-ones)"
   ],
   "cell_type": "markdown",
   "metadata": {}
  },
  {
   "cell_type": "code",
   "execution_count": 387,
   "metadata": {},
   "outputs": [
    {
     "output_type": "execute_result",
     "data": {
      "text/plain": [
       "array([[6., 1., 5., 5., 3., 8., 0., 4., 8., 1., 0., 6.],\n",
       "       [8., 4., 7., 1., 3., 1., 7., 4., 0., 5., 4., 6.]])"
      ]
     },
     "metadata": {},
     "execution_count": 387
    }
   ],
   "source": [
    "a = np.floor(10*rg.random((2,12)))\n",
    "a"
   ]
  },
  {
   "cell_type": "code",
   "execution_count": 391,
   "metadata": {},
   "outputs": [
    {
     "output_type": "execute_result",
     "data": {
      "text/plain": [
       "[array([[6., 1., 5., 5.],\n",
       "        [8., 4., 7., 1.]]),\n",
       " array([[3., 8., 0., 4.],\n",
       "        [3., 1., 7., 4.]]),\n",
       " array([[8., 1., 0., 6.],\n",
       "        [0., 5., 4., 6.]])]"
      ]
     },
     "metadata": {},
     "execution_count": 391
    }
   ],
   "source": [
    "np.hsplit(a,3) # Split a into 3"
   ]
  },
  {
   "cell_type": "code",
   "execution_count": 392,
   "metadata": {},
   "outputs": [
    {
     "output_type": "execute_result",
     "data": {
      "text/plain": [
       "[array([[6., 1., 5.],\n",
       "        [8., 4., 7.]]),\n",
       " array([[5.],\n",
       "        [1.]]),\n",
       " array([[3., 8., 0., 4., 8., 1., 0., 6.],\n",
       "        [3., 1., 7., 4., 0., 5., 4., 6.]])]"
      ]
     },
     "metadata": {},
     "execution_count": 392
    }
   ],
   "source": [
    "np.hsplit(a,(3,4)) # Split a after the third and the fourth column"
   ]
  },
  {
   "source": [
    "# [Copies and Views](https://numpy.org/doc/stable/user/quickstart.html#copies-and-views)"
   ],
   "cell_type": "markdown",
   "metadata": {}
  },
  {
   "source": [
    "## [No Copy at All](https://numpy.org/doc/stable/user/quickstart.html#no-copy-at-all)"
   ],
   "cell_type": "markdown",
   "metadata": {}
  },
  {
   "cell_type": "code",
   "execution_count": 429,
   "metadata": {},
   "outputs": [
    {
     "output_type": "execute_result",
     "data": {
      "text/plain": [
       "True"
      ]
     },
     "metadata": {},
     "execution_count": 429
    }
   ],
   "source": [
    "a = np.array([[ 0,  1,  2,  3],\n",
    "              [ 4,  5,  6,  7],\n",
    "              [ 8,  9, 10, 11]])\n",
    "b = a # no new object is created\n",
    "b is a # a and b are two names for the same ndarray object"
   ]
  },
  {
   "cell_type": "code",
   "execution_count": 430,
   "metadata": {},
   "outputs": [],
   "source": [
    "def f(x):\n",
    "    print(id(x))"
   ]
  },
  {
   "cell_type": "code",
   "execution_count": 431,
   "metadata": {},
   "outputs": [
    {
     "output_type": "execute_result",
     "data": {
      "text/plain": [
       "140410085419024"
      ]
     },
     "metadata": {},
     "execution_count": 431
    }
   ],
   "source": [
    "id(a)"
   ]
  },
  {
   "cell_type": "code",
   "execution_count": 432,
   "metadata": {},
   "outputs": [
    {
     "output_type": "stream",
     "name": "stdout",
     "text": [
      "140410085419024\n"
     ]
    }
   ],
   "source": [
    "f(a)"
   ]
  },
  {
   "cell_type": "code",
   "execution_count": 433,
   "metadata": {},
   "outputs": [
    {
     "output_type": "stream",
     "name": "stdout",
     "text": [
      "140410085419024\n"
     ]
    }
   ],
   "source": [
    "f(b)"
   ]
  },
  {
   "source": [
    "## [View or Shallow Copy](https://numpy.org/doc/stable/user/quickstart.html#view-or-shallow-copy)"
   ],
   "cell_type": "markdown",
   "metadata": {}
  },
  {
   "cell_type": "code",
   "execution_count": 434,
   "metadata": {},
   "outputs": [
    {
     "output_type": "execute_result",
     "data": {
      "text/plain": [
       "False"
      ]
     },
     "metadata": {},
     "execution_count": 434
    }
   ],
   "source": [
    "c = a.view()\n",
    "c is a"
   ]
  },
  {
   "cell_type": "code",
   "execution_count": 435,
   "metadata": {},
   "outputs": [
    {
     "output_type": "execute_result",
     "data": {
      "text/plain": [
       "True"
      ]
     },
     "metadata": {},
     "execution_count": 435
    }
   ],
   "source": [
    "c.base is a              # c is a view of the data owned by a\n",
    "# baseはcが参照しているメモリ上のデータを表す。\n",
    "# つまり、cはaのshallow copyになっている。"
   ]
  },
  {
   "cell_type": "code",
   "execution_count": 436,
   "metadata": {},
   "outputs": [
    {
     "output_type": "execute_result",
     "data": {
      "text/plain": [
       "False"
      ]
     },
     "metadata": {},
     "execution_count": 436
    }
   ],
   "source": [
    "c.flags.owndata"
   ]
  },
  {
   "cell_type": "code",
   "execution_count": 437,
   "metadata": {},
   "outputs": [
    {
     "output_type": "execute_result",
     "data": {
      "text/plain": [
       "True"
      ]
     },
     "metadata": {},
     "execution_count": 437
    }
   ],
   "source": [
    "a.flags.owndata"
   ]
  },
  {
   "source": [
    "### メモ\n",
    "flagsはここを参照\n",
    "[numpy.ndarray.flags](https://numpy.org/doc/stable/reference/generated/numpy.ndarray.flags.html?highlight=array%20flags#numpy.ndarray.flags)"
   ],
   "cell_type": "markdown",
   "metadata": {}
  },
  {
   "cell_type": "code",
   "execution_count": 438,
   "metadata": {},
   "outputs": [],
   "source": [
    "s = a[ : , 1:3]     # spaces added for clarity; could also be written \"s = a[:, 1:3]\"\n",
    "s[:] = 10      # s[:] is a view of s. Note the difference between s = 10 and s[:] = 10"
   ]
  },
  {
   "cell_type": "code",
   "execution_count": 439,
   "metadata": {},
   "outputs": [
    {
     "output_type": "execute_result",
     "data": {
      "text/plain": [
       "array([[ 0, 10, 10,  3],\n",
       "       [ 4, 10, 10,  7],\n",
       "       [ 8, 10, 10, 11]])"
      ]
     },
     "metadata": {},
     "execution_count": 439
    }
   ],
   "source": [
    "a # sliceでsを作成してもsが参照しているデータはaと同じ"
   ]
  },
  {
   "source": [
    "## [Deep Copy](https://numpy.org/doc/stable/user/quickstart.html#deep-copy)"
   ],
   "cell_type": "markdown",
   "metadata": {}
  },
  {
   "cell_type": "code",
   "execution_count": 440,
   "metadata": {},
   "outputs": [],
   "source": [
    "d = a.copy() # これでdeep copyができる。"
   ]
  },
  {
   "source": [
    "## [Functions and Methods Overview](https://numpy.org/doc/stable/user/quickstart.html#functions-and-methods-overview)"
   ],
   "cell_type": "markdown",
   "metadata": {}
  },
  {
   "source": [
    "関数とメソッドはここをみよう\n",
    "\n",
    "[Routines](https://numpy.org/doc/stable/reference/routines.html#routines)"
   ],
   "cell_type": "markdown",
   "metadata": {}
  },
  {
   "source": [
    "# [Less Basic](https://numpy.org/doc/stable/user/quickstart.html#less-basic)"
   ],
   "cell_type": "markdown",
   "metadata": {}
  },
  {
   "source": [
    "## [Broadcasting rules](https://numpy.org/doc/stable/user/quickstart.html#broadcasting-rules)"
   ],
   "cell_type": "markdown",
   "metadata": {}
  },
  {
   "source": [
    "Broadcasting rulesはここをみよう\n",
    "\n",
    "[Broadcasting](https://numpy.org/doc/stable/user/basics.broadcasting.html#basics-broadcasting)"
   ],
   "cell_type": "markdown",
   "metadata": {}
  },
  {
   "source": [
    "# [Advanced indexing and index tricks](https://numpy.org/doc/stable/user/quickstart.html#advanced-indexing-and-index-tricks)"
   ],
   "cell_type": "markdown",
   "metadata": {}
  },
  {
   "source": [
    "## [Indexing with Arrays of Indices](https://numpy.org/doc/stable/user/quickstart.html#indexing-with-arrays-of-indices)"
   ],
   "cell_type": "markdown",
   "metadata": {}
  },
  {
   "cell_type": "code",
   "execution_count": 446,
   "metadata": {},
   "outputs": [
    {
     "output_type": "execute_result",
     "data": {
      "text/plain": [
       "array([[ 0,  1,  2,  3],\n",
       "       [ 4,  5,  6,  7],\n",
       "       [ 8,  9, 10, 11]])"
      ]
     },
     "metadata": {},
     "execution_count": 446
    }
   ],
   "source": [
    "a = np.arange(12).reshape(3,4)\n",
    "a"
   ]
  },
  {
   "cell_type": "code",
   "execution_count": 448,
   "metadata": {},
   "outputs": [],
   "source": [
    "i = np.array([[0, 1],         # indices for the first dim of a\n",
    " [1, 2]])\n",
    "j = np.array([[2, 1],        # indices for the second dim\n",
    "  [3, 3]])"
   ]
  },
  {
   "cell_type": "code",
   "execution_count": 450,
   "metadata": {},
   "outputs": [
    {
     "output_type": "execute_result",
     "data": {
      "text/plain": [
       "array([[ 2,  5],\n",
       "       [ 7, 11]])"
      ]
     },
     "metadata": {},
     "execution_count": 450
    }
   ],
   "source": [
    "a[i, j] # (0, 0)の2はi[0, 0]=0, j[0, 0]=2によってa[0, 2]のように取り出された。"
   ]
  },
  {
   "cell_type": "code",
   "execution_count": 452,
   "metadata": {},
   "outputs": [
    {
     "output_type": "execute_result",
     "data": {
      "text/plain": [
       "array([[[ 2,  1],\n",
       "        [ 3,  3]],\n",
       "\n",
       "       [[ 6,  5],\n",
       "        [ 7,  7]],\n",
       "\n",
       "       [[10,  9],\n",
       "        [11, 11]]])"
      ]
     },
     "metadata": {},
     "execution_count": 452
    }
   ],
   "source": [
    "a[:, j]"
   ]
  },
  {
   "source": [
    "`ix_`関数はshapeが異なるarray同士を演算できるようにshapeを変形してくれるような関数と思っておけばよさそう。演算は各arrayの要素の全ての組み合わせに対して実行されます。"
   ],
   "cell_type": "markdown",
   "metadata": {}
  },
  {
   "cell_type": "code",
   "execution_count": 463,
   "metadata": {},
   "outputs": [],
   "source": [
    "a = np.array([2,3,4,5])\n",
    "b = np.array([8,5,4])\n",
    "c = np.array([5,4,6,8,3])\n",
    "ax, bx, cx=np.ix_(a, b, c)"
   ]
  },
  {
   "cell_type": "code",
   "execution_count": 464,
   "metadata": {},
   "outputs": [
    {
     "output_type": "execute_result",
     "data": {
      "text/plain": [
       "array([[[10],\n",
       "        [ 7],\n",
       "        [ 6]],\n",
       "\n",
       "       [[11],\n",
       "        [ 8],\n",
       "        [ 7]],\n",
       "\n",
       "       [[12],\n",
       "        [ 9],\n",
       "        [ 8]],\n",
       "\n",
       "       [[13],\n",
       "        [10],\n",
       "        [ 9]]])"
      ]
     },
     "metadata": {},
     "execution_count": 464
    }
   ],
   "source": [
    "ax + bx"
   ]
  },
  {
   "cell_type": "code",
   "execution_count": 465,
   "metadata": {},
   "outputs": [
    {
     "output_type": "execute_result",
     "data": {
      "text/plain": [
       "array([[[15, 14, 16, 18, 13],\n",
       "        [12, 11, 13, 15, 10],\n",
       "        [11, 10, 12, 14,  9]],\n",
       "\n",
       "       [[16, 15, 17, 19, 14],\n",
       "        [13, 12, 14, 16, 11],\n",
       "        [12, 11, 13, 15, 10]],\n",
       "\n",
       "       [[17, 16, 18, 20, 15],\n",
       "        [14, 13, 15, 17, 12],\n",
       "        [13, 12, 14, 16, 11]],\n",
       "\n",
       "       [[18, 17, 19, 21, 16],\n",
       "        [15, 14, 16, 18, 13],\n",
       "        [14, 13, 15, 17, 12]]])"
      ]
     },
     "metadata": {},
     "execution_count": 465
    }
   ],
   "source": [
    "ax + bx + cx"
   ]
  },
  {
   "source": [
    "## [Indexing with strings](https://numpy.org/doc/stable/user/quickstart.html#indexing-with-strings)"
   ],
   "cell_type": "markdown",
   "metadata": {}
  },
  {
   "source": [
    "See [Structured arrays](https://numpy.org/doc/stable/user/basics.rec.html#structured-arrays)."
   ],
   "cell_type": "markdown",
   "metadata": {}
  },
  {
   "source": [
    "# [Linear Algebra](https://numpy.org/doc/stable/user/quickstart.html#linear-algebra)\n",
    "\n",
    "飛ばす"
   ],
   "cell_type": "markdown",
   "metadata": {}
  },
  {
   "source": [
    "# [Tricks and Tips](https://numpy.org/doc/stable/user/quickstart.html#tricks-and-tips)"
   ],
   "cell_type": "markdown",
   "metadata": {}
  },
  {
   "source": [
    "## [“Automatic” Reshaping](https://numpy.org/doc/stable/user/quickstart.html#automatic-reshaping)"
   ],
   "cell_type": "markdown",
   "metadata": {}
  },
  {
   "source": [
    "飛ばす"
   ],
   "cell_type": "markdown",
   "metadata": {}
  },
  {
   "source": [
    "## [Vector Stacking](https://numpy.org/doc/stable/user/quickstart.html#vector-stacking)"
   ],
   "cell_type": "markdown",
   "metadata": {}
  },
  {
   "source": [
    "飛ばす"
   ],
   "cell_type": "markdown",
   "metadata": {}
  },
  {
   "cell_type": "code",
   "execution_count": 473,
   "metadata": {},
   "outputs": [
    {
     "output_type": "execute_result",
     "data": {
      "text/plain": [
       "[<matplotlib.lines.Line2D at 0x7fb3581b0410>]"
      ]
     },
     "metadata": {},
     "execution_count": 473
    },
    {
     "output_type": "display_data",
     "data": {
      "text/plain": "<Figure size 432x288 with 1 Axes>",
      "image/svg+xml": "<?xml version=\"1.0\" encoding=\"utf-8\" standalone=\"no\"?>\n<!DOCTYPE svg PUBLIC \"-//W3C//DTD SVG 1.1//EN\"\n  \"http://www.w3.org/Graphics/SVG/1.1/DTD/svg11.dtd\">\n<!-- Created with matplotlib (https://matplotlib.org/) -->\n<svg height=\"248.518125pt\" version=\"1.1\" viewBox=\"0 0 372.103125 248.518125\" width=\"372.103125pt\" xmlns=\"http://www.w3.org/2000/svg\" xmlns:xlink=\"http://www.w3.org/1999/xlink\">\n <metadata>\n  <rdf:RDF xmlns:cc=\"http://creativecommons.org/ns#\" xmlns:dc=\"http://purl.org/dc/elements/1.1/\" xmlns:rdf=\"http://www.w3.org/1999/02/22-rdf-syntax-ns#\">\n   <cc:Work>\n    <dc:type rdf:resource=\"http://purl.org/dc/dcmitype/StillImage\"/>\n    <dc:date>2021-06-16T17:08:18.549333</dc:date>\n    <dc:format>image/svg+xml</dc:format>\n    <dc:creator>\n     <cc:Agent>\n      <dc:title>Matplotlib v3.3.4, https://matplotlib.org/</dc:title>\n     </cc:Agent>\n    </dc:creator>\n   </cc:Work>\n  </rdf:RDF>\n </metadata>\n <defs>\n  <style type=\"text/css\">*{stroke-linecap:butt;stroke-linejoin:round;}</style>\n </defs>\n <g id=\"figure_1\">\n  <g id=\"patch_1\">\n   <path d=\"M 0 248.518125 \nL 372.103125 248.518125 \nL 372.103125 0 \nL 0 0 \nz\n\" style=\"fill:none;\"/>\n  </g>\n  <g id=\"axes_1\">\n   <g id=\"patch_2\">\n    <path d=\"M 30.103125 224.64 \nL 364.903125 224.64 \nL 364.903125 7.2 \nL 30.103125 7.2 \nz\n\" style=\"fill:#ffffff;\"/>\n   </g>\n   <g id=\"patch_3\">\n    <path clip-path=\"url(#pd53124c215)\" d=\"M 45.321307 224.64 \nL 51.40858 224.64 \nL 51.40858 224.30491 \nL 45.321307 224.30491 \nz\n\" style=\"fill:#1f77b4;\"/>\n   </g>\n   <g id=\"patch_4\">\n    <path clip-path=\"url(#pd53124c215)\" d=\"M 51.40858 224.64 \nL 57.495852 224.64 \nL 57.495852 223.96982 \nL 51.40858 223.96982 \nz\n\" style=\"fill:#1f77b4;\"/>\n   </g>\n   <g id=\"patch_5\">\n    <path clip-path=\"url(#pd53124c215)\" d=\"M 57.495852 224.64 \nL 63.583125 224.64 \nL 63.583125 223.96982 \nL 57.495852 223.96982 \nz\n\" style=\"fill:#1f77b4;\"/>\n   </g>\n   <g id=\"patch_6\">\n    <path clip-path=\"url(#pd53124c215)\" d=\"M 63.583125 224.64 \nL 69.670398 224.64 \nL 69.670398 223.96982 \nL 63.583125 223.96982 \nz\n\" style=\"fill:#1f77b4;\"/>\n   </g>\n   <g id=\"patch_7\">\n    <path clip-path=\"url(#pd53124c215)\" d=\"M 69.670398 224.64 \nL 75.75767 224.64 \nL 75.75767 222.629459 \nL 69.670398 222.629459 \nz\n\" style=\"fill:#1f77b4;\"/>\n   </g>\n   <g id=\"patch_8\">\n    <path clip-path=\"url(#pd53124c215)\" d=\"M 75.75767 224.64 \nL 81.844943 224.64 \nL 81.844943 222.294369 \nL 75.75767 222.294369 \nz\n\" style=\"fill:#1f77b4;\"/>\n   </g>\n   <g id=\"patch_9\">\n    <path clip-path=\"url(#pd53124c215)\" d=\"M 81.844943 224.64 \nL 87.932216 224.64 \nL 87.932216 220.954008 \nL 81.844943 220.954008 \nz\n\" style=\"fill:#1f77b4;\"/>\n   </g>\n   <g id=\"patch_10\">\n    <path clip-path=\"url(#pd53124c215)\" d=\"M 87.932216 224.64 \nL 94.019489 224.64 \nL 94.019489 214.587295 \nL 87.932216 214.587295 \nz\n\" style=\"fill:#1f77b4;\"/>\n   </g>\n   <g id=\"patch_11\">\n    <path clip-path=\"url(#pd53124c215)\" d=\"M 94.019489 224.64 \nL 100.106761 224.64 \nL 100.106761 213.582025 \nL 94.019489 213.582025 \nz\n\" style=\"fill:#1f77b4;\"/>\n   </g>\n   <g id=\"patch_12\">\n    <path clip-path=\"url(#pd53124c215)\" d=\"M 100.106761 224.64 \nL 106.194034 224.64 \nL 106.194034 214.252205 \nL 100.106761 214.252205 \nz\n\" style=\"fill:#1f77b4;\"/>\n   </g>\n   <g id=\"patch_13\">\n    <path clip-path=\"url(#pd53124c215)\" d=\"M 106.194034 224.64 \nL 112.281307 224.64 \nL 112.281307 209.896033 \nL 106.194034 209.896033 \nz\n\" style=\"fill:#1f77b4;\"/>\n   </g>\n   <g id=\"patch_14\">\n    <path clip-path=\"url(#pd53124c215)\" d=\"M 112.281307 224.64 \nL 118.36858 224.64 \nL 118.36858 202.18896 \nL 112.281307 202.18896 \nz\n\" style=\"fill:#1f77b4;\"/>\n   </g>\n   <g id=\"patch_15\">\n    <path clip-path=\"url(#pd53124c215)\" d=\"M 118.36858 224.64 \nL 124.455852 224.64 \nL 124.455852 188.450264 \nL 118.36858 188.450264 \nz\n\" style=\"fill:#1f77b4;\"/>\n   </g>\n   <g id=\"patch_16\">\n    <path clip-path=\"url(#pd53124c215)\" d=\"M 124.455852 224.64 \nL 130.543125 224.64 \nL 130.543125 182.753731 \nL 124.455852 182.753731 \nz\n\" style=\"fill:#1f77b4;\"/>\n   </g>\n   <g id=\"patch_17\">\n    <path clip-path=\"url(#pd53124c215)\" d=\"M 130.543125 224.64 \nL 136.630398 224.64 \nL 136.630398 160.972871 \nL 130.543125 160.972871 \nz\n\" style=\"fill:#1f77b4;\"/>\n   </g>\n   <g id=\"patch_18\">\n    <path clip-path=\"url(#pd53124c215)\" d=\"M 136.630398 224.64 \nL 142.71767 224.64 \nL 142.71767 146.228904 \nL 136.630398 146.228904 \nz\n\" style=\"fill:#1f77b4;\"/>\n   </g>\n   <g id=\"patch_19\">\n    <path clip-path=\"url(#pd53124c215)\" d=\"M 142.71767 224.64 \nL 148.804943 224.64 \nL 148.804943 134.165659 \nL 142.71767 134.165659 \nz\n\" style=\"fill:#1f77b4;\"/>\n   </g>\n   <g id=\"patch_20\">\n    <path clip-path=\"url(#pd53124c215)\" d=\"M 148.804943 224.64 \nL 154.892216 224.64 \nL 154.892216 116.070791 \nL 148.804943 116.070791 \nz\n\" style=\"fill:#1f77b4;\"/>\n   </g>\n   <g id=\"patch_21\">\n    <path clip-path=\"url(#pd53124c215)\" d=\"M 154.892216 224.64 \nL 160.979489 224.64 \nL 160.979489 89.263578 \nL 154.892216 89.263578 \nz\n\" style=\"fill:#1f77b4;\"/>\n   </g>\n   <g id=\"patch_22\">\n    <path clip-path=\"url(#pd53124c215)\" d=\"M 160.979489 224.64 \nL 167.066761 224.64 \nL 167.066761 67.817809 \nL 160.979489 67.817809 \nz\n\" style=\"fill:#1f77b4;\"/>\n   </g>\n   <g id=\"patch_23\">\n    <path clip-path=\"url(#pd53124c215)\" d=\"M 167.066761 224.64 \nL 173.154034 224.64 \nL 173.154034 47.042219 \nL 167.066761 47.042219 \nz\n\" style=\"fill:#1f77b4;\"/>\n   </g>\n   <g id=\"patch_24\">\n    <path clip-path=\"url(#pd53124c215)\" d=\"M 173.154034 224.64 \nL 179.241307 224.64 \nL 179.241307 43.691318 \nL 173.154034 43.691318 \nz\n\" style=\"fill:#1f77b4;\"/>\n   </g>\n   <g id=\"patch_25\">\n    <path clip-path=\"url(#pd53124c215)\" d=\"M 179.241307 224.64 \nL 185.32858 224.64 \nL 185.32858 19.564827 \nL 179.241307 19.564827 \nz\n\" style=\"fill:#1f77b4;\"/>\n   </g>\n   <g id=\"patch_26\">\n    <path clip-path=\"url(#pd53124c215)\" d=\"M 185.32858 224.64 \nL 191.415852 224.64 \nL 191.415852 32.968433 \nL 185.32858 32.968433 \nz\n\" style=\"fill:#1f77b4;\"/>\n   </g>\n   <g id=\"patch_27\">\n    <path clip-path=\"url(#pd53124c215)\" d=\"M 191.415852 224.64 \nL 197.503125 224.64 \nL 197.503125 17.554286 \nL 191.415852 17.554286 \nz\n\" style=\"fill:#1f77b4;\"/>\n   </g>\n   <g id=\"patch_28\">\n    <path clip-path=\"url(#pd53124c215)\" d=\"M 197.503125 224.64 \nL 203.590398 224.64 \nL 203.590398 19.229736 \nL 197.503125 19.229736 \nz\n\" style=\"fill:#1f77b4;\"/>\n   </g>\n   <g id=\"patch_29\">\n    <path clip-path=\"url(#pd53124c215)\" d=\"M 203.590398 224.64 \nL 209.67767 224.64 \nL 209.67767 34.643883 \nL 203.590398 34.643883 \nz\n\" style=\"fill:#1f77b4;\"/>\n   </g>\n   <g id=\"patch_30\">\n    <path clip-path=\"url(#pd53124c215)\" d=\"M 209.67767 224.64 \nL 215.764943 224.64 \nL 215.764943 42.015867 \nL 209.67767 42.015867 \nz\n\" style=\"fill:#1f77b4;\"/>\n   </g>\n   <g id=\"patch_31\">\n    <path clip-path=\"url(#pd53124c215)\" d=\"M 215.764943 224.64 \nL 221.852216 224.64 \nL 221.852216 43.691318 \nL 215.764943 43.691318 \nz\n\" style=\"fill:#1f77b4;\"/>\n   </g>\n   <g id=\"patch_32\">\n    <path clip-path=\"url(#pd53124c215)\" d=\"M 221.852216 224.64 \nL 227.939489 224.64 \nL 227.939489 66.477448 \nL 221.852216 66.477448 \nz\n\" style=\"fill:#1f77b4;\"/>\n   </g>\n   <g id=\"patch_33\">\n    <path clip-path=\"url(#pd53124c215)\" d=\"M 227.939489 224.64 \nL 234.026761 224.64 \nL 234.026761 74.519612 \nL 227.939489 74.519612 \nz\n\" style=\"fill:#1f77b4;\"/>\n   </g>\n   <g id=\"patch_34\">\n    <path clip-path=\"url(#pd53124c215)\" d=\"M 234.026761 224.64 \nL 240.114034 224.64 \nL 240.114034 108.028627 \nL 234.026761 108.028627 \nz\n\" style=\"fill:#1f77b4;\"/>\n   </g>\n   <g id=\"patch_35\">\n    <path clip-path=\"url(#pd53124c215)\" d=\"M 240.114034 224.64 \nL 246.201307 224.64 \nL 246.201307 122.772594 \nL 240.114034 122.772594 \nz\n\" style=\"fill:#1f77b4;\"/>\n   </g>\n   <g id=\"patch_36\">\n    <path clip-path=\"url(#pd53124c215)\" d=\"M 246.201307 224.64 \nL 252.28858 224.64 \nL 252.28858 151.255257 \nL 246.201307 151.255257 \nz\n\" style=\"fill:#1f77b4;\"/>\n   </g>\n   <g id=\"patch_37\">\n    <path clip-path=\"url(#pd53124c215)\" d=\"M 252.28858 224.64 \nL 258.375852 224.64 \nL 258.375852 161.643051 \nL 252.28858 161.643051 \nz\n\" style=\"fill:#1f77b4;\"/>\n   </g>\n   <g id=\"patch_38\">\n    <path clip-path=\"url(#pd53124c215)\" d=\"M 258.375852 224.64 \nL 264.463125 224.64 \nL 264.463125 171.025576 \nL 258.375852 171.025576 \nz\n\" style=\"fill:#1f77b4;\"/>\n   </g>\n   <g id=\"patch_39\">\n    <path clip-path=\"url(#pd53124c215)\" d=\"M 264.463125 224.64 \nL 270.550398 224.64 \nL 270.550398 189.790624 \nL 264.463125 189.790624 \nz\n\" style=\"fill:#1f77b4;\"/>\n   </g>\n   <g id=\"patch_40\">\n    <path clip-path=\"url(#pd53124c215)\" d=\"M 270.550398 224.64 \nL 276.63767 224.64 \nL 276.63767 197.497698 \nL 270.550398 197.497698 \nz\n\" style=\"fill:#1f77b4;\"/>\n   </g>\n   <g id=\"patch_41\">\n    <path clip-path=\"url(#pd53124c215)\" d=\"M 276.63767 224.64 \nL 282.724943 224.64 \nL 282.724943 204.199501 \nL 276.63767 204.199501 \nz\n\" style=\"fill:#1f77b4;\"/>\n   </g>\n   <g id=\"patch_42\">\n    <path clip-path=\"url(#pd53124c215)\" d=\"M 282.724943 224.64 \nL 288.812216 224.64 \nL 288.812216 212.241664 \nL 282.724943 212.241664 \nz\n\" style=\"fill:#1f77b4;\"/>\n   </g>\n   <g id=\"patch_43\">\n    <path clip-path=\"url(#pd53124c215)\" d=\"M 288.812216 224.64 \nL 294.899489 224.64 \nL 294.899489 216.932926 \nL 288.812216 216.932926 \nz\n\" style=\"fill:#1f77b4;\"/>\n   </g>\n   <g id=\"patch_44\">\n    <path clip-path=\"url(#pd53124c215)\" d=\"M 294.899489 224.64 \nL 300.986761 224.64 \nL 300.986761 216.262746 \nL 294.899489 216.262746 \nz\n\" style=\"fill:#1f77b4;\"/>\n   </g>\n   <g id=\"patch_45\">\n    <path clip-path=\"url(#pd53124c215)\" d=\"M 300.986761 224.64 \nL 307.074034 224.64 \nL 307.074034 221.959279 \nL 300.986761 221.959279 \nz\n\" style=\"fill:#1f77b4;\"/>\n   </g>\n   <g id=\"patch_46\">\n    <path clip-path=\"url(#pd53124c215)\" d=\"M 307.074034 224.64 \nL 313.161307 224.64 \nL 313.161307 222.294369 \nL 307.074034 222.294369 \nz\n\" style=\"fill:#1f77b4;\"/>\n   </g>\n   <g id=\"patch_47\">\n    <path clip-path=\"url(#pd53124c215)\" d=\"M 313.161307 224.64 \nL 319.24858 224.64 \nL 319.24858 222.964549 \nL 313.161307 222.964549 \nz\n\" style=\"fill:#1f77b4;\"/>\n   </g>\n   <g id=\"patch_48\">\n    <path clip-path=\"url(#pd53124c215)\" d=\"M 319.24858 224.64 \nL 325.335852 224.64 \nL 325.335852 222.629459 \nL 319.24858 222.629459 \nz\n\" style=\"fill:#1f77b4;\"/>\n   </g>\n   <g id=\"patch_49\">\n    <path clip-path=\"url(#pd53124c215)\" d=\"M 325.335852 224.64 \nL 331.423125 224.64 \nL 331.423125 223.299639 \nL 325.335852 223.299639 \nz\n\" style=\"fill:#1f77b4;\"/>\n   </g>\n   <g id=\"patch_50\">\n    <path clip-path=\"url(#pd53124c215)\" d=\"M 331.423125 224.64 \nL 337.510398 224.64 \nL 337.510398 224.30491 \nL 331.423125 224.30491 \nz\n\" style=\"fill:#1f77b4;\"/>\n   </g>\n   <g id=\"patch_51\">\n    <path clip-path=\"url(#pd53124c215)\" d=\"M 337.510398 224.64 \nL 343.59767 224.64 \nL 343.59767 223.96982 \nL 337.510398 223.96982 \nz\n\" style=\"fill:#1f77b4;\"/>\n   </g>\n   <g id=\"patch_52\">\n    <path clip-path=\"url(#pd53124c215)\" d=\"M 343.59767 224.64 \nL 349.684943 224.64 \nL 349.684943 224.30491 \nL 343.59767 224.30491 \nz\n\" style=\"fill:#1f77b4;\"/>\n   </g>\n   <g id=\"matplotlib.axis_1\">\n    <g id=\"xtick_1\">\n     <g id=\"line2d_1\">\n      <defs>\n       <path d=\"M 0 0 \nL 0 3.5 \n\" id=\"m1ea5820a7b\" style=\"stroke:#000000;stroke-width:0.8;\"/>\n      </defs>\n      <g>\n       <use style=\"stroke:#000000;stroke-width:0.8;\" x=\"38.969807\" xlink:href=\"#m1ea5820a7b\" y=\"224.64\"/>\n      </g>\n     </g>\n     <g id=\"text_1\">\n      <!-- 0.0 -->\n      <g transform=\"translate(31.018244 239.238437)scale(0.1 -0.1)\">\n       <defs>\n        <path d=\"M 31.78125 66.40625 \nQ 24.171875 66.40625 20.328125 58.90625 \nQ 16.5 51.421875 16.5 36.375 \nQ 16.5 21.390625 20.328125 13.890625 \nQ 24.171875 6.390625 31.78125 6.390625 \nQ 39.453125 6.390625 43.28125 13.890625 \nQ 47.125 21.390625 47.125 36.375 \nQ 47.125 51.421875 43.28125 58.90625 \nQ 39.453125 66.40625 31.78125 66.40625 \nz\nM 31.78125 74.21875 \nQ 44.046875 74.21875 50.515625 64.515625 \nQ 56.984375 54.828125 56.984375 36.375 \nQ 56.984375 17.96875 50.515625 8.265625 \nQ 44.046875 -1.421875 31.78125 -1.421875 \nQ 19.53125 -1.421875 13.0625 8.265625 \nQ 6.59375 17.96875 6.59375 36.375 \nQ 6.59375 54.828125 13.0625 64.515625 \nQ 19.53125 74.21875 31.78125 74.21875 \nz\n\" id=\"DejaVuSans-48\"/>\n        <path d=\"M 10.6875 12.40625 \nL 21 12.40625 \nL 21 0 \nL 10.6875 0 \nz\n\" id=\"DejaVuSans-46\"/>\n       </defs>\n       <use xlink:href=\"#DejaVuSans-48\"/>\n       <use x=\"63.623047\" xlink:href=\"#DejaVuSans-46\"/>\n       <use x=\"95.410156\" xlink:href=\"#DejaVuSans-48\"/>\n      </g>\n     </g>\n    </g>\n    <g id=\"xtick_2\">\n     <g id=\"line2d_2\">\n      <g>\n       <use style=\"stroke:#000000;stroke-width:0.8;\" x=\"78.143261\" xlink:href=\"#m1ea5820a7b\" y=\"224.64\"/>\n      </g>\n     </g>\n     <g id=\"text_2\">\n      <!-- 0.5 -->\n      <g transform=\"translate(70.191698 239.238437)scale(0.1 -0.1)\">\n       <defs>\n        <path d=\"M 10.796875 72.90625 \nL 49.515625 72.90625 \nL 49.515625 64.59375 \nL 19.828125 64.59375 \nL 19.828125 46.734375 \nQ 21.96875 47.46875 24.109375 47.828125 \nQ 26.265625 48.1875 28.421875 48.1875 \nQ 40.625 48.1875 47.75 41.5 \nQ 54.890625 34.8125 54.890625 23.390625 \nQ 54.890625 11.625 47.5625 5.09375 \nQ 40.234375 -1.421875 26.90625 -1.421875 \nQ 22.3125 -1.421875 17.546875 -0.640625 \nQ 12.796875 0.140625 7.71875 1.703125 \nL 7.71875 11.625 \nQ 12.109375 9.234375 16.796875 8.0625 \nQ 21.484375 6.890625 26.703125 6.890625 \nQ 35.15625 6.890625 40.078125 11.328125 \nQ 45.015625 15.765625 45.015625 23.390625 \nQ 45.015625 31 40.078125 35.4375 \nQ 35.15625 39.890625 26.703125 39.890625 \nQ 22.75 39.890625 18.8125 39.015625 \nQ 14.890625 38.140625 10.796875 36.28125 \nz\n\" id=\"DejaVuSans-53\"/>\n       </defs>\n       <use xlink:href=\"#DejaVuSans-48\"/>\n       <use x=\"63.623047\" xlink:href=\"#DejaVuSans-46\"/>\n       <use x=\"95.410156\" xlink:href=\"#DejaVuSans-53\"/>\n      </g>\n     </g>\n    </g>\n    <g id=\"xtick_3\">\n     <g id=\"line2d_3\">\n      <g>\n       <use style=\"stroke:#000000;stroke-width:0.8;\" x=\"117.316715\" xlink:href=\"#m1ea5820a7b\" y=\"224.64\"/>\n      </g>\n     </g>\n     <g id=\"text_3\">\n      <!-- 1.0 -->\n      <g transform=\"translate(109.365153 239.238437)scale(0.1 -0.1)\">\n       <defs>\n        <path d=\"M 12.40625 8.296875 \nL 28.515625 8.296875 \nL 28.515625 63.921875 \nL 10.984375 60.40625 \nL 10.984375 69.390625 \nL 28.421875 72.90625 \nL 38.28125 72.90625 \nL 38.28125 8.296875 \nL 54.390625 8.296875 \nL 54.390625 0 \nL 12.40625 0 \nz\n\" id=\"DejaVuSans-49\"/>\n       </defs>\n       <use xlink:href=\"#DejaVuSans-49\"/>\n       <use x=\"63.623047\" xlink:href=\"#DejaVuSans-46\"/>\n       <use x=\"95.410156\" xlink:href=\"#DejaVuSans-48\"/>\n      </g>\n     </g>\n    </g>\n    <g id=\"xtick_4\">\n     <g id=\"line2d_4\">\n      <g>\n       <use style=\"stroke:#000000;stroke-width:0.8;\" x=\"156.490169\" xlink:href=\"#m1ea5820a7b\" y=\"224.64\"/>\n      </g>\n     </g>\n     <g id=\"text_4\">\n      <!-- 1.5 -->\n      <g transform=\"translate(148.538607 239.238437)scale(0.1 -0.1)\">\n       <use xlink:href=\"#DejaVuSans-49\"/>\n       <use x=\"63.623047\" xlink:href=\"#DejaVuSans-46\"/>\n       <use x=\"95.410156\" xlink:href=\"#DejaVuSans-53\"/>\n      </g>\n     </g>\n    </g>\n    <g id=\"xtick_5\">\n     <g id=\"line2d_5\">\n      <g>\n       <use style=\"stroke:#000000;stroke-width:0.8;\" x=\"195.663623\" xlink:href=\"#m1ea5820a7b\" y=\"224.64\"/>\n      </g>\n     </g>\n     <g id=\"text_5\">\n      <!-- 2.0 -->\n      <g transform=\"translate(187.712061 239.238437)scale(0.1 -0.1)\">\n       <defs>\n        <path d=\"M 19.1875 8.296875 \nL 53.609375 8.296875 \nL 53.609375 0 \nL 7.328125 0 \nL 7.328125 8.296875 \nQ 12.9375 14.109375 22.625 23.890625 \nQ 32.328125 33.6875 34.8125 36.53125 \nQ 39.546875 41.84375 41.421875 45.53125 \nQ 43.3125 49.21875 43.3125 52.78125 \nQ 43.3125 58.59375 39.234375 62.25 \nQ 35.15625 65.921875 28.609375 65.921875 \nQ 23.96875 65.921875 18.8125 64.3125 \nQ 13.671875 62.703125 7.8125 59.421875 \nL 7.8125 69.390625 \nQ 13.765625 71.78125 18.9375 73 \nQ 24.125 74.21875 28.421875 74.21875 \nQ 39.75 74.21875 46.484375 68.546875 \nQ 53.21875 62.890625 53.21875 53.421875 \nQ 53.21875 48.921875 51.53125 44.890625 \nQ 49.859375 40.875 45.40625 35.40625 \nQ 44.1875 33.984375 37.640625 27.21875 \nQ 31.109375 20.453125 19.1875 8.296875 \nz\n\" id=\"DejaVuSans-50\"/>\n       </defs>\n       <use xlink:href=\"#DejaVuSans-50\"/>\n       <use x=\"63.623047\" xlink:href=\"#DejaVuSans-46\"/>\n       <use x=\"95.410156\" xlink:href=\"#DejaVuSans-48\"/>\n      </g>\n     </g>\n    </g>\n    <g id=\"xtick_6\">\n     <g id=\"line2d_6\">\n      <g>\n       <use style=\"stroke:#000000;stroke-width:0.8;\" x=\"234.837077\" xlink:href=\"#m1ea5820a7b\" y=\"224.64\"/>\n      </g>\n     </g>\n     <g id=\"text_6\">\n      <!-- 2.5 -->\n      <g transform=\"translate(226.885515 239.238437)scale(0.1 -0.1)\">\n       <use xlink:href=\"#DejaVuSans-50\"/>\n       <use x=\"63.623047\" xlink:href=\"#DejaVuSans-46\"/>\n       <use x=\"95.410156\" xlink:href=\"#DejaVuSans-53\"/>\n      </g>\n     </g>\n    </g>\n    <g id=\"xtick_7\">\n     <g id=\"line2d_7\">\n      <g>\n       <use style=\"stroke:#000000;stroke-width:0.8;\" x=\"274.010531\" xlink:href=\"#m1ea5820a7b\" y=\"224.64\"/>\n      </g>\n     </g>\n     <g id=\"text_7\">\n      <!-- 3.0 -->\n      <g transform=\"translate(266.058969 239.238437)scale(0.1 -0.1)\">\n       <defs>\n        <path d=\"M 40.578125 39.3125 \nQ 47.65625 37.796875 51.625 33 \nQ 55.609375 28.21875 55.609375 21.1875 \nQ 55.609375 10.40625 48.1875 4.484375 \nQ 40.765625 -1.421875 27.09375 -1.421875 \nQ 22.515625 -1.421875 17.65625 -0.515625 \nQ 12.796875 0.390625 7.625 2.203125 \nL 7.625 11.71875 \nQ 11.71875 9.328125 16.59375 8.109375 \nQ 21.484375 6.890625 26.8125 6.890625 \nQ 36.078125 6.890625 40.9375 10.546875 \nQ 45.796875 14.203125 45.796875 21.1875 \nQ 45.796875 27.640625 41.28125 31.265625 \nQ 36.765625 34.90625 28.71875 34.90625 \nL 20.21875 34.90625 \nL 20.21875 43.015625 \nL 29.109375 43.015625 \nQ 36.375 43.015625 40.234375 45.921875 \nQ 44.09375 48.828125 44.09375 54.296875 \nQ 44.09375 59.90625 40.109375 62.90625 \nQ 36.140625 65.921875 28.71875 65.921875 \nQ 24.65625 65.921875 20.015625 65.03125 \nQ 15.375 64.15625 9.8125 62.3125 \nL 9.8125 71.09375 \nQ 15.4375 72.65625 20.34375 73.4375 \nQ 25.25 74.21875 29.59375 74.21875 \nQ 40.828125 74.21875 47.359375 69.109375 \nQ 53.90625 64.015625 53.90625 55.328125 \nQ 53.90625 49.265625 50.4375 45.09375 \nQ 46.96875 40.921875 40.578125 39.3125 \nz\n\" id=\"DejaVuSans-51\"/>\n       </defs>\n       <use xlink:href=\"#DejaVuSans-51\"/>\n       <use x=\"63.623047\" xlink:href=\"#DejaVuSans-46\"/>\n       <use x=\"95.410156\" xlink:href=\"#DejaVuSans-48\"/>\n      </g>\n     </g>\n    </g>\n    <g id=\"xtick_8\">\n     <g id=\"line2d_8\">\n      <g>\n       <use style=\"stroke:#000000;stroke-width:0.8;\" x=\"313.183985\" xlink:href=\"#m1ea5820a7b\" y=\"224.64\"/>\n      </g>\n     </g>\n     <g id=\"text_8\">\n      <!-- 3.5 -->\n      <g transform=\"translate(305.232423 239.238437)scale(0.1 -0.1)\">\n       <use xlink:href=\"#DejaVuSans-51\"/>\n       <use x=\"63.623047\" xlink:href=\"#DejaVuSans-46\"/>\n       <use x=\"95.410156\" xlink:href=\"#DejaVuSans-53\"/>\n      </g>\n     </g>\n    </g>\n    <g id=\"xtick_9\">\n     <g id=\"line2d_9\">\n      <g>\n       <use style=\"stroke:#000000;stroke-width:0.8;\" x=\"352.357439\" xlink:href=\"#m1ea5820a7b\" y=\"224.64\"/>\n      </g>\n     </g>\n     <g id=\"text_9\">\n      <!-- 4.0 -->\n      <g transform=\"translate(344.405877 239.238437)scale(0.1 -0.1)\">\n       <defs>\n        <path d=\"M 37.796875 64.3125 \nL 12.890625 25.390625 \nL 37.796875 25.390625 \nz\nM 35.203125 72.90625 \nL 47.609375 72.90625 \nL 47.609375 25.390625 \nL 58.015625 25.390625 \nL 58.015625 17.1875 \nL 47.609375 17.1875 \nL 47.609375 0 \nL 37.796875 0 \nL 37.796875 17.1875 \nL 4.890625 17.1875 \nL 4.890625 26.703125 \nz\n\" id=\"DejaVuSans-52\"/>\n       </defs>\n       <use xlink:href=\"#DejaVuSans-52\"/>\n       <use x=\"63.623047\" xlink:href=\"#DejaVuSans-46\"/>\n       <use x=\"95.410156\" xlink:href=\"#DejaVuSans-48\"/>\n      </g>\n     </g>\n    </g>\n   </g>\n   <g id=\"matplotlib.axis_2\">\n    <g id=\"ytick_1\">\n     <g id=\"line2d_10\">\n      <defs>\n       <path d=\"M 0 0 \nL -3.5 0 \n\" id=\"mbda068e6d3\" style=\"stroke:#000000;stroke-width:0.8;\"/>\n      </defs>\n      <g>\n       <use style=\"stroke:#000000;stroke-width:0.8;\" x=\"30.103125\" xlink:href=\"#mbda068e6d3\" y=\"224.64\"/>\n      </g>\n     </g>\n     <g id=\"text_10\">\n      <!-- 0.0 -->\n      <g transform=\"translate(7.2 228.439219)scale(0.1 -0.1)\">\n       <use xlink:href=\"#DejaVuSans-48\"/>\n       <use x=\"63.623047\" xlink:href=\"#DejaVuSans-46\"/>\n       <use x=\"95.410156\" xlink:href=\"#DejaVuSans-48\"/>\n      </g>\n     </g>\n    </g>\n    <g id=\"ytick_2\">\n     <g id=\"line2d_11\">\n      <g>\n       <use style=\"stroke:#000000;stroke-width:0.8;\" x=\"30.103125\" xlink:href=\"#mbda068e6d3\" y=\"198.604701\"/>\n      </g>\n     </g>\n     <g id=\"text_11\">\n      <!-- 0.1 -->\n      <g transform=\"translate(7.2 202.40392)scale(0.1 -0.1)\">\n       <use xlink:href=\"#DejaVuSans-48\"/>\n       <use x=\"63.623047\" xlink:href=\"#DejaVuSans-46\"/>\n       <use x=\"95.410156\" xlink:href=\"#DejaVuSans-49\"/>\n      </g>\n     </g>\n    </g>\n    <g id=\"ytick_3\">\n     <g id=\"line2d_12\">\n      <g>\n       <use style=\"stroke:#000000;stroke-width:0.8;\" x=\"30.103125\" xlink:href=\"#mbda068e6d3\" y=\"172.569403\"/>\n      </g>\n     </g>\n     <g id=\"text_12\">\n      <!-- 0.2 -->\n      <g transform=\"translate(7.2 176.368622)scale(0.1 -0.1)\">\n       <use xlink:href=\"#DejaVuSans-48\"/>\n       <use x=\"63.623047\" xlink:href=\"#DejaVuSans-46\"/>\n       <use x=\"95.410156\" xlink:href=\"#DejaVuSans-50\"/>\n      </g>\n     </g>\n    </g>\n    <g id=\"ytick_4\">\n     <g id=\"line2d_13\">\n      <g>\n       <use style=\"stroke:#000000;stroke-width:0.8;\" x=\"30.103125\" xlink:href=\"#mbda068e6d3\" y=\"146.534104\"/>\n      </g>\n     </g>\n     <g id=\"text_13\">\n      <!-- 0.3 -->\n      <g transform=\"translate(7.2 150.333323)scale(0.1 -0.1)\">\n       <use xlink:href=\"#DejaVuSans-48\"/>\n       <use x=\"63.623047\" xlink:href=\"#DejaVuSans-46\"/>\n       <use x=\"95.410156\" xlink:href=\"#DejaVuSans-51\"/>\n      </g>\n     </g>\n    </g>\n    <g id=\"ytick_5\">\n     <g id=\"line2d_14\">\n      <g>\n       <use style=\"stroke:#000000;stroke-width:0.8;\" x=\"30.103125\" xlink:href=\"#mbda068e6d3\" y=\"120.498806\"/>\n      </g>\n     </g>\n     <g id=\"text_14\">\n      <!-- 0.4 -->\n      <g transform=\"translate(7.2 124.298024)scale(0.1 -0.1)\">\n       <use xlink:href=\"#DejaVuSans-48\"/>\n       <use x=\"63.623047\" xlink:href=\"#DejaVuSans-46\"/>\n       <use x=\"95.410156\" xlink:href=\"#DejaVuSans-52\"/>\n      </g>\n     </g>\n    </g>\n    <g id=\"ytick_6\">\n     <g id=\"line2d_15\">\n      <g>\n       <use style=\"stroke:#000000;stroke-width:0.8;\" x=\"30.103125\" xlink:href=\"#mbda068e6d3\" y=\"94.463507\"/>\n      </g>\n     </g>\n     <g id=\"text_15\">\n      <!-- 0.5 -->\n      <g transform=\"translate(7.2 98.262726)scale(0.1 -0.1)\">\n       <use xlink:href=\"#DejaVuSans-48\"/>\n       <use x=\"63.623047\" xlink:href=\"#DejaVuSans-46\"/>\n       <use x=\"95.410156\" xlink:href=\"#DejaVuSans-53\"/>\n      </g>\n     </g>\n    </g>\n    <g id=\"ytick_7\">\n     <g id=\"line2d_16\">\n      <g>\n       <use style=\"stroke:#000000;stroke-width:0.8;\" x=\"30.103125\" xlink:href=\"#mbda068e6d3\" y=\"68.428208\"/>\n      </g>\n     </g>\n     <g id=\"text_16\">\n      <!-- 0.6 -->\n      <g transform=\"translate(7.2 72.227427)scale(0.1 -0.1)\">\n       <defs>\n        <path d=\"M 33.015625 40.375 \nQ 26.375 40.375 22.484375 35.828125 \nQ 18.609375 31.296875 18.609375 23.390625 \nQ 18.609375 15.53125 22.484375 10.953125 \nQ 26.375 6.390625 33.015625 6.390625 \nQ 39.65625 6.390625 43.53125 10.953125 \nQ 47.40625 15.53125 47.40625 23.390625 \nQ 47.40625 31.296875 43.53125 35.828125 \nQ 39.65625 40.375 33.015625 40.375 \nz\nM 52.59375 71.296875 \nL 52.59375 62.3125 \nQ 48.875 64.0625 45.09375 64.984375 \nQ 41.3125 65.921875 37.59375 65.921875 \nQ 27.828125 65.921875 22.671875 59.328125 \nQ 17.53125 52.734375 16.796875 39.40625 \nQ 19.671875 43.65625 24.015625 45.921875 \nQ 28.375 48.1875 33.59375 48.1875 \nQ 44.578125 48.1875 50.953125 41.515625 \nQ 57.328125 34.859375 57.328125 23.390625 \nQ 57.328125 12.15625 50.6875 5.359375 \nQ 44.046875 -1.421875 33.015625 -1.421875 \nQ 20.359375 -1.421875 13.671875 8.265625 \nQ 6.984375 17.96875 6.984375 36.375 \nQ 6.984375 53.65625 15.1875 63.9375 \nQ 23.390625 74.21875 37.203125 74.21875 \nQ 40.921875 74.21875 44.703125 73.484375 \nQ 48.484375 72.75 52.59375 71.296875 \nz\n\" id=\"DejaVuSans-54\"/>\n       </defs>\n       <use xlink:href=\"#DejaVuSans-48\"/>\n       <use x=\"63.623047\" xlink:href=\"#DejaVuSans-46\"/>\n       <use x=\"95.410156\" xlink:href=\"#DejaVuSans-54\"/>\n      </g>\n     </g>\n    </g>\n    <g id=\"ytick_8\">\n     <g id=\"line2d_17\">\n      <g>\n       <use style=\"stroke:#000000;stroke-width:0.8;\" x=\"30.103125\" xlink:href=\"#mbda068e6d3\" y=\"42.39291\"/>\n      </g>\n     </g>\n     <g id=\"text_17\">\n      <!-- 0.7 -->\n      <g transform=\"translate(7.2 46.192128)scale(0.1 -0.1)\">\n       <defs>\n        <path d=\"M 8.203125 72.90625 \nL 55.078125 72.90625 \nL 55.078125 68.703125 \nL 28.609375 0 \nL 18.3125 0 \nL 43.21875 64.59375 \nL 8.203125 64.59375 \nz\n\" id=\"DejaVuSans-55\"/>\n       </defs>\n       <use xlink:href=\"#DejaVuSans-48\"/>\n       <use x=\"63.623047\" xlink:href=\"#DejaVuSans-46\"/>\n       <use x=\"95.410156\" xlink:href=\"#DejaVuSans-55\"/>\n      </g>\n     </g>\n    </g>\n    <g id=\"ytick_9\">\n     <g id=\"line2d_18\">\n      <g>\n       <use style=\"stroke:#000000;stroke-width:0.8;\" x=\"30.103125\" xlink:href=\"#mbda068e6d3\" y=\"16.357611\"/>\n      </g>\n     </g>\n     <g id=\"text_18\">\n      <!-- 0.8 -->\n      <g transform=\"translate(7.2 20.15683)scale(0.1 -0.1)\">\n       <defs>\n        <path d=\"M 31.78125 34.625 \nQ 24.75 34.625 20.71875 30.859375 \nQ 16.703125 27.09375 16.703125 20.515625 \nQ 16.703125 13.921875 20.71875 10.15625 \nQ 24.75 6.390625 31.78125 6.390625 \nQ 38.8125 6.390625 42.859375 10.171875 \nQ 46.921875 13.96875 46.921875 20.515625 \nQ 46.921875 27.09375 42.890625 30.859375 \nQ 38.875 34.625 31.78125 34.625 \nz\nM 21.921875 38.8125 \nQ 15.578125 40.375 12.03125 44.71875 \nQ 8.5 49.078125 8.5 55.328125 \nQ 8.5 64.0625 14.71875 69.140625 \nQ 20.953125 74.21875 31.78125 74.21875 \nQ 42.671875 74.21875 48.875 69.140625 \nQ 55.078125 64.0625 55.078125 55.328125 \nQ 55.078125 49.078125 51.53125 44.71875 \nQ 48 40.375 41.703125 38.8125 \nQ 48.828125 37.15625 52.796875 32.3125 \nQ 56.78125 27.484375 56.78125 20.515625 \nQ 56.78125 9.90625 50.3125 4.234375 \nQ 43.84375 -1.421875 31.78125 -1.421875 \nQ 19.734375 -1.421875 13.25 4.234375 \nQ 6.78125 9.90625 6.78125 20.515625 \nQ 6.78125 27.484375 10.78125 32.3125 \nQ 14.796875 37.15625 21.921875 38.8125 \nz\nM 18.3125 54.390625 \nQ 18.3125 48.734375 21.84375 45.5625 \nQ 25.390625 42.390625 31.78125 42.390625 \nQ 38.140625 42.390625 41.71875 45.5625 \nQ 45.3125 48.734375 45.3125 54.390625 \nQ 45.3125 60.0625 41.71875 63.234375 \nQ 38.140625 66.40625 31.78125 66.40625 \nQ 25.390625 66.40625 21.84375 63.234375 \nQ 18.3125 60.0625 18.3125 54.390625 \nz\n\" id=\"DejaVuSans-56\"/>\n       </defs>\n       <use xlink:href=\"#DejaVuSans-48\"/>\n       <use x=\"63.623047\" xlink:href=\"#DejaVuSans-46\"/>\n       <use x=\"95.410156\" xlink:href=\"#DejaVuSans-56\"/>\n      </g>\n     </g>\n    </g>\n   </g>\n   <g id=\"line2d_19\">\n    <path clip-path=\"url(#pd53124c215)\" d=\"M 48.364943 224.30491 \nL 54.452216 223.96982 \nL 60.539489 223.96982 \nL 66.626761 223.96982 \nL 72.714034 222.629459 \nL 78.801307 222.294369 \nL 84.88858 220.954008 \nL 90.975852 214.587295 \nL 97.063125 213.582025 \nL 103.150398 214.252205 \nL 109.23767 209.896033 \nL 115.324943 202.18896 \nL 121.412216 188.450264 \nL 127.499489 182.753731 \nL 133.586761 160.972871 \nL 139.674034 146.228904 \nL 145.761307 134.165659 \nL 151.84858 116.070791 \nL 157.935852 89.263578 \nL 164.023125 67.817809 \nL 170.110398 47.042219 \nL 176.19767 43.691318 \nL 182.284943 19.564827 \nL 188.372216 32.968433 \nL 194.459489 17.554286 \nL 200.546761 19.229736 \nL 206.634034 34.643883 \nL 212.721307 42.015867 \nL 218.80858 43.691318 \nL 224.895852 66.477448 \nL 230.983125 74.519612 \nL 237.070398 108.028627 \nL 243.15767 122.772594 \nL 249.244943 151.255257 \nL 255.332216 161.643051 \nL 261.419489 171.025576 \nL 267.506761 189.790624 \nL 273.594034 197.497698 \nL 279.681307 204.199501 \nL 285.76858 212.241664 \nL 291.855852 216.932926 \nL 297.943125 216.262746 \nL 304.030398 221.959279 \nL 310.11767 222.294369 \nL 316.204943 222.964549 \nL 322.292216 222.629459 \nL 328.379489 223.299639 \nL 334.466761 224.30491 \nL 340.554034 223.96982 \nL 346.641307 224.30491 \n\" style=\"fill:none;stroke:#ff7f0e;stroke-linecap:square;stroke-width:1.5;\"/>\n   </g>\n   <g id=\"patch_53\">\n    <path d=\"M 30.103125 224.64 \nL 30.103125 7.2 \n\" style=\"fill:none;stroke:#000000;stroke-linecap:square;stroke-linejoin:miter;stroke-width:0.8;\"/>\n   </g>\n   <g id=\"patch_54\">\n    <path d=\"M 364.903125 224.64 \nL 364.903125 7.2 \n\" style=\"fill:none;stroke:#000000;stroke-linecap:square;stroke-linejoin:miter;stroke-width:0.8;\"/>\n   </g>\n   <g id=\"patch_55\">\n    <path d=\"M 30.103125 224.64 \nL 364.903125 224.64 \n\" style=\"fill:none;stroke:#000000;stroke-linecap:square;stroke-linejoin:miter;stroke-width:0.8;\"/>\n   </g>\n   <g id=\"patch_56\">\n    <path d=\"M 30.103125 7.2 \nL 364.903125 7.2 \n\" style=\"fill:none;stroke:#000000;stroke-linecap:square;stroke-linejoin:miter;stroke-width:0.8;\"/>\n   </g>\n  </g>\n </g>\n <defs>\n  <clipPath id=\"pd53124c215\">\n   <rect height=\"217.44\" width=\"334.8\" x=\"30.103125\" y=\"7.2\"/>\n  </clipPath>\n </defs>\n</svg>\n",
      "image/png": "[encoded data removed]"
     },
     "metadata": {
      "needs_background": "light"
     }
    }
   ],
   "source": [
    "import numpy as np\n",
    "rg = np.random.default_rng(1)\n",
    "import matplotlib.pyplot as plt\n",
    "# Build a vector of 10000 normal deviates with variance 0.5^2 and mean 2\n",
    "mu, sigma = 2, 0.5\n",
    "v = rg.normal(mu,sigma,10000)\n",
    "# Plot a normalized histogram with 50 bins\n",
    "plt.hist(v, bins=50, density=1) \n",
    "# Compute the histogram with numpy and then plot it\n",
    "(n, bins) = np.histogram(v, bins=50, density=True)  # NumPy version (no plot)\n",
    "# np.histogramはプロットしてくれなくて、arrayを返すだけなのでプロットは別で実行する必要があるということが伝えたいのかな？\n",
    "plt.plot(.5*(bins[1:]+bins[:-1]), n)\n"
   ]
  },
  {
   "cell_type": "code",
   "execution_count": null,
   "metadata": {},
   "outputs": [],
   "source": []
  }
 ],
 "metadata": {
  "kernelspec": {
   "name": "python3",
   "display_name": "Python 3.7.4 64-bit ('anaconda3-5.3.1': pyenv)"
  },
  "language_info": {
   "codemirror_mode": {
    "name": "ipython",
    "version": 3
   },
   "file_extension": ".py",
   "mimetype": "text/x-python",
   "name": "python",
   "nbconvert_exporter": "python",
   "pygments_lexer": "ipython3",
   "version": "3.7.4"
  },
  "interpreter": {
   "hash": "646deb94c1d279c33474e21ee82413659c732a13119e7648ed1cecf7e5230405"
  }
 },
 "nbformat": 4,
 "nbformat_minor": 4
}